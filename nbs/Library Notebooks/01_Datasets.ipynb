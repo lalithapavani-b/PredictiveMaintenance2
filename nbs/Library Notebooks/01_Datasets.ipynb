{
 "cells": [
  {
   "cell_type": "code",
   "execution_count": null,
   "id": "f155c12f",
   "metadata": {},
   "outputs": [],
   "source": [
    "#| hide\n",
    "# to set up auto reaload whenever changes are made in other modules\n",
    "%load_ext autoreload\n",
    "%autoreload 2"
   ]
  },
  {
   "cell_type": "markdown",
   "id": "903de8d9",
   "metadata": {},
   "source": [
    "# Datasets \n",
    "> A module in PredictiveMaintenance2 package that helps in loading datasets"
   ]
  },
  {
   "cell_type": "code",
   "execution_count": null,
   "id": "b1da9cfc",
   "metadata": {},
   "outputs": [],
   "source": [
    "#| default_exp Datasets"
   ]
  },
  {
   "cell_type": "code",
   "execution_count": null,
   "id": "550fb469",
   "metadata": {},
   "outputs": [],
   "source": [
    "#| hide\n",
    "from nbdev.showdoc import *"
   ]
  },
  {
   "cell_type": "code",
   "execution_count": null,
   "id": "fe4f3b3f",
   "metadata": {},
   "outputs": [],
   "source": [
    "#| export\n",
    "import pandas as pd\n",
    "import os"
   ]
  },
  {
   "cell_type": "code",
   "execution_count": null,
   "id": "f88a1ad9",
   "metadata": {},
   "outputs": [],
   "source": [
    "#| hide\n",
    "class File_NotFound_Exception(Exception):\n",
    "    def __init__(self, message):\n",
    "        super().__init__(message)\n",
    "\n",
    "class Unsupplorted_FileFormat_Exception(Exception):\n",
    "    def __init__(self, message):\n",
    "        super().__init__(message)"
   ]
  },
  {
   "cell_type": "code",
   "execution_count": null,
   "id": "216de6b8",
   "metadata": {},
   "outputs": [],
   "source": [
    "#| export\n",
    "\n",
    "def explore_dataset(dataset_df : pd.DataFrame,# DataFrame handler of the dataset\n",
    "                    NAN_action : str , # action to take on null values\n",
    "                    duplicate_action : str, # action to take on duplicate values\n",
    "                    NAN_subset : list = None, # drop rows with null values in columns of NAN_subset\n",
    "                    duplicate_subset : list = None, # drop rows with duplicate values in columns of dupliate_subset\n",
    "                    inplace : bool = True # whether ot not to make changes in original dataset\n",
    "                    )-> None: # there is nothin to return\n",
    "    try:\n",
    "        print(f\"In Dataset \\nObservations : {(dataset_df.shape)[0]} \\nColumns :{(dataset_df.shape)[1]}\\n\")\n",
    "\n",
    "        ### null values ###\n",
    "        null_values = dataset_df.isnull().sum(axis = 0)\n",
    "        print(f\"-----NAN values-----\\n{null_values}\\n\")\n",
    "        \n",
    "        # if null values found in dataset perform NAN_action specified \n",
    "        if (null_values.sum()):\n",
    "            if NAN_action =='drop': \n",
    "                dataset.dropna(inplace=inplace)\n",
    "                print(f\"{NAN_action} NAN successful \\n\")\n",
    "                \n",
    "                \n",
    "\n",
    "        ### duplicates ###\n",
    "        \n",
    "        # we need record of each machine only once per day\n",
    "        duplicate_values = dataset_df.duplicated(subset=duplicate_subset).sum()\n",
    "        print(f\"-----Duplicate records-----\\n{duplicate_values}\\n\")\n",
    "        \n",
    "        # if null values found in dataset perform NAN_action specified \n",
    "        if duplicate_values:\n",
    "            if duplicate_action =='drop': \n",
    "                dataset_df.drop_duplicates(subset= duplicate_subset, inplace=inplace)\n",
    "                print(f\"{NAN_action} Duplicates successful \\n\")\n",
    "                \n",
    "    \n",
    "    except Exception as e:\n",
    "        print(e)\n",
    "        return None\n",
    "    "
   ]
  },
  {
   "cell_type": "code",
   "execution_count": null,
   "id": "d6e08cc9",
   "metadata": {},
   "outputs": [],
   "source": [
    "#| export\n",
    "def load_dataset(\n",
    "    filepath:str, #full path/relative path of the dataset file\n",
    "    mode:str #read,write or append\n",
    "    )-> pd.DataFrame(): # return DataFrame of dataset \n",
    "    \n",
    "    # check if file exists\n",
    "    try :\n",
    "        if os.path.exists(filepath):\n",
    "            print(\"File exists\")\n",
    "            \n",
    "            # check if file extension is supported\n",
    "            name,extension = filepath.split(\".\")\n",
    "            \n",
    "            if extension == 'csv' or extension == 'xlsx' or extension == 'json':\n",
    "                print(f\".{extension} file extension is supported\")\n",
    "                data_frame = pd.read_csv(filepath)\n",
    "                return data_frame\n",
    "            \n",
    "            else:\n",
    "                raise Unsupported_FileFormat_Exception(f\"Cannot open file with extension{extension}\")\n",
    "                 \n",
    "        else:\n",
    "            raise File_NotFound_Exception(f\"Cannot open file{filepath}\")\n",
    "            \n",
    "    except Exception as e:\n",
    "        print(e)\n",
    "        return None"
   ]
  },
  {
   "cell_type": "code",
   "execution_count": null,
   "id": "59de9f66",
   "metadata": {},
   "outputs": [],
   "source": [
    "#| hide\n",
    "import nbdev; nbdev.nbdev_export()"
   ]
  },
  {
   "cell_type": "code",
   "execution_count": null,
   "id": "2f3d6fae",
   "metadata": {},
   "outputs": [],
   "source": []
  }
 ],
 "metadata": {
  "kernelspec": {
   "display_name": "python3",
   "language": "python",
   "name": "python3"
  }
 },
 "nbformat": 4,
 "nbformat_minor": 5
}
