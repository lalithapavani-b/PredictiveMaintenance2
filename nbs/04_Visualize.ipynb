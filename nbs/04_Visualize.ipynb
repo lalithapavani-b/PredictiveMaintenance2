{
 "cells": [
  {
   "cell_type": "code",
   "execution_count": null,
   "id": "4af5e00b",
   "metadata": {},
   "outputs": [],
   "source": [
    "%load_ext autoreload\n",
    "%autoreload 2"
   ]
  },
  {
   "cell_type": "markdown",
   "id": "155e5744",
   "metadata": {},
   "source": [
    "# Data Analysis and Visualization\n",
    "\n",
    ">This module of PredictiveMaintenance2 package consists of functions that draw plots for understanding patterns and correlation between variables of dataset"
   ]
  },
  {
   "cell_type": "code",
   "execution_count": null,
   "id": "12b38489",
   "metadata": {},
   "outputs": [],
   "source": [
    "#| default_exp Visualize"
   ]
  },
  {
   "cell_type": "code",
   "execution_count": null,
   "id": "75f2ea3a",
   "metadata": {},
   "outputs": [],
   "source": [
    "#| hide\n",
    "from nbdev.showdoc import *"
   ]
  },
  {
   "cell_type": "code",
   "execution_count": null,
   "id": "188ba08d",
   "metadata": {},
   "outputs": [],
   "source": [
    "#| export\n",
    "import pandas as pd\n",
    "import numpy as np\n",
    "import matplotlib.pyplot as plt\n",
    "from collections import Counter\n",
    "import PredictiveMaintenance2.Datasets as Datasets"
   ]
  },
  {
   "cell_type": "code",
   "execution_count": null,
   "id": "c0d41375",
   "metadata": {},
   "outputs": [],
   "source": [
    "#| hide\n",
    "class Unsupported_FeatureType_Exception(Exception):\n",
    "    def __init__(self, message):\n",
    "        super().__init__(message)"
   ]
  },
  {
   "cell_type": "code",
   "execution_count": null,
   "id": "ba6e5460",
   "metadata": {},
   "outputs": [],
   "source": [
    "#| export\n",
    "\n",
    "def plot(feature_type: str , # whether feature is numerical or categorical\n",
    "         feature : str , # name of feature\n",
    "         dataset : pd.DataFrame , # name of dataset\n",
    "         boxplot : bool = True , # whether draw box plot or not \n",
    "         histogram : bool= True , # whether draw histogram or not\n",
    "         barchart : bool= True , # whether to draw bar chart or not     \n",
    "        ):\n",
    "    \n",
    "    try:\n",
    "        if feature_type == 'Numerical':\n",
    "            # Creating an empty chart\n",
    "            fig, ((ax1, ax2)) = plt.subplots(1, 2,  figsize=(15, 4))\n",
    "\n",
    "            # Extracting the feature values\n",
    "            x = dataset[feature].values\n",
    "\n",
    "            # Boxplot\n",
    "            ax1.boxplot(x)\n",
    "            ax1.set_title( f'Boxplot for {feature}' )\n",
    "\n",
    "             # Histogram\n",
    "            ax2.hist(x, bins=20)\n",
    "            ax2.set_title( f'Histogram for {feature}' )\n",
    "\n",
    "            # Display\n",
    "            plt.show()\n",
    "\n",
    "        elif feature_type == 'Categorical':\n",
    "            # Create an empty chart\n",
    "            fig, ax = plt.subplots(figsize=(6, 6))\n",
    "\n",
    "            # Extracting the feature values\n",
    "            x = dataset[feature].values\n",
    "\n",
    "            # Counting the number of occurrences for each category\n",
    "            data = Counter(x)\n",
    "            category = list(data.keys())\n",
    "            counts = list(data.values())\n",
    "\n",
    "            # Boxplot\n",
    "            ax.bar(category, counts)\n",
    "\n",
    "            # Display\n",
    "            plt.title( f'Barchart for {feature}' )\n",
    "            plt.xlabel( f'each {feature} ID')\n",
    "            plt.ylabel ( f'count of each {feature}')\n",
    "            plt.show() \n",
    "            \n",
    "        elif feature_type == 'time':\n",
    "            # Create an empty chart\n",
    "            fig, ax = plt.subplots(figsize=(6, 6))\n",
    "            \n",
    "            # Showing the histogram of the rul for the failure event = false\n",
    "            time_0 = dataset.loc[dataset['failure'] == 0, feature]\n",
    "            ax.hist(time_0, bins=30, alpha=0.3, color='blue', label = 'not failed yet')\n",
    "\n",
    "            # Showing the histogram of the rul for the failure event = true\n",
    "            time_1 = dataset.loc[dataset['failure'] == 1, feature]\n",
    "            ax.hist(time_1, bins=20, alpha=0.7, color='black', label = 'Failed')\n",
    "            ax.set_title( 'Histogram - Remaining Useful Life time', fontsize=15)\n",
    "            plt.show()\n",
    "        \n",
    "        elif feature_type == 'event':\n",
    "            # Create an empty chart\n",
    "            fig, ax = plt.subplots(figsize=(6, 6))\n",
    "            \n",
    "            # Counting the number of occurrences for each category \n",
    "            data = Counter(dataset['failure'].replace({0:'not Failed yet', 1:'Failed'}))\n",
    "            category = list(data.keys())\n",
    "            counts = list(data.values())\n",
    "            idx = range(len(counts))\n",
    "\n",
    "            # Displaying the occurrences of the event/censoring\n",
    "            ax.bar(idx, counts)\n",
    "            ax.set_xticks(idx)\n",
    "            ax.set_xticklabels(category)\n",
    "            ax.set_title( 'Occurences of the event/censoring', fontsize=15)\n",
    "            plt.show()\n",
    "            \n",
    "        else:\n",
    "            raise Unsupported_FeatureType_Exception(f\"Cannot extract feature{feature}\")\n",
    "            \n",
    "    except Exception as e:\n",
    "        print(e)\n",
    "        return None  "
   ]
  },
  {
   "cell_type": "code",
   "execution_count": null,
   "id": "67c1998a",
   "metadata": {},
   "outputs": [],
   "source": [
    "#| hide\n",
    "import nbdev; nbdev.nbdev_export()"
   ]
  },
  {
   "cell_type": "code",
   "execution_count": null,
   "id": "c9a11dda",
   "metadata": {},
   "outputs": [],
   "source": []
  }
 ],
 "metadata": {
  "kernelspec": {
   "display_name": "python3",
   "language": "python",
   "name": "python3"
  }
 },
 "nbformat": 4,
 "nbformat_minor": 5
}
