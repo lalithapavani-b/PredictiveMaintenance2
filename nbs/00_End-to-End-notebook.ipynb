{
 "cells": [
  {
   "cell_type": "code",
   "execution_count": null,
   "metadata": {},
   "outputs": [],
   "source": [
    "%load_ext autoreload\n",
    "%autoreload 2"
   ]
  },
  {
   "cell_type": "code",
   "execution_count": null,
   "metadata": {},
   "outputs": [],
   "source": [
    "#| default_exp utils"
   ]
  },
  {
   "cell_type": "markdown",
   "metadata": {},
   "source": [
    "# Introduction\n"
   ]
  },
  {
   "cell_type": "markdown",
   "metadata": {},
   "source": [
    "Predictive Maintenance (PdM) is a great application of Survival Analysis since it consists in predicting when equipment failure will occur and therefore alerting the maintenance team to prevent that failure."
   ]
  },
  {
   "cell_type": "markdown",
   "metadata": {},
   "source": [
    "### ` Objectives`\n",
    "> - To estimate Remaining Useful Time(RUL) of a machine/component\n",
    "> - To Predict Probability of Failure in Next N days\n",
    "> - Create a Dashboard for tracking and alerts"
   ]
  },
  {
   "cell_type": "markdown",
   "metadata": {},
   "source": [
    "# Setup\n",
    "\n",
    "### `Requirements`\n",
    "> To automatically generate requirements.txt file type `pipreqs .` in terminal\n",
    "- matplotlib==3.7.1\n",
    "- numpy==1.24.2\n",
    "- pandas==2.0.1\n",
    "- setuptools==65.6.3 "
   ]
  },
  {
   "cell_type": "markdown",
   "metadata": {},
   "source": [
    "# Dataset\n",
    "\n",
    "Dataset we are going to use contains the following features"
   ]
  },
  {
   "cell_type": "code",
   "execution_count": null,
   "metadata": {},
   "outputs": [],
   "source": [
    "#| hide\n",
    "from nbdev.showdoc import *"
   ]
  },
  {
   "cell_type": "code",
   "execution_count": null,
   "metadata": {},
   "outputs": [],
   "source": [
    "#| export\n",
    "import pandas as pd\n",
    "import numpy as np\n",
    "\n",
    "import PredictiveMaintenance2.Datasets as Datasets\n",
    "from PredictiveMaintenance2 import Visualize"
   ]
  },
  {
   "cell_type": "markdown",
   "metadata": {},
   "source": [
    "### load dataset"
   ]
  },
  {
   "cell_type": "code",
   "execution_count": null,
   "metadata": {},
   "outputs": [
    {
     "name": "stdout",
     "output_type": "stream",
     "text": [
      "File exists\n",
      ".csv file extension is supported\n"
     ]
    }
   ],
   "source": [
    "file = 'predictive_maintenance_dataset.csv'\n",
    "machine_data = Datasets.load_dataset(file,'r')"
   ]
  },
  {
   "cell_type": "markdown",
   "metadata": {},
   "source": [
    "### Explore dataset\n",
    "- dataset.shape\n",
    "- dataset.null values\n",
    "- dataset.duplicate rows"
   ]
  },
  {
   "cell_type": "code",
   "execution_count": null,
   "metadata": {},
   "outputs": [
    {
     "name": "stdout",
     "output_type": "stream",
     "text": [
      "In Dataset \n",
      "Observations : 124493 \n",
      "Columns :12\n",
      "\n",
      "-----NAN values-----\n",
      "date       0\n",
      "device     0\n",
      "failure    0\n",
      "metric1    0\n",
      "metric2    0\n",
      "metric3    0\n",
      "metric4    0\n",
      "metric5    0\n",
      "metric6    0\n",
      "metric7    0\n",
      "metric8    0\n",
      "metric9    0\n",
      "dtype: int64\n",
      "\n",
      "-----Duplicate records-----\n",
      "0\n",
      "\n"
     ]
    }
   ],
   "source": [
    "Datasets.explore_dataset(dataset_df = machine_data,\n",
    "                         NAN_action='drop',\n",
    "                         duplicate_action = 'drop',\n",
    "                         duplicate_subset=['device', 'date'])"
   ]
  },
  {
   "cell_type": "code",
   "execution_count": null,
   "metadata": {},
   "outputs": [
    {
     "data": {
      "text/plain": [
       "date       object\n",
       "device     object\n",
       "failure     int64\n",
       "metric1     int64\n",
       "metric2     int64\n",
       "metric3     int64\n",
       "metric4     int64\n",
       "metric5     int64\n",
       "metric6     int64\n",
       "metric7     int64\n",
       "metric8     int64\n",
       "metric9     int64\n",
       "dtype: object"
      ]
     },
     "execution_count": null,
     "metadata": {},
     "output_type": "execute_result"
    }
   ],
   "source": [
    "machine_data.dtypes"
   ]
  },
  {
   "cell_type": "code",
   "execution_count": null,
   "metadata": {},
   "outputs": [
    {
     "data": {
      "text/plain": [
       "\"\\nDatasets.explain_features(machine_Unique_Identifer = 'string',\\n                        machine_features = [column_names],\\n                        observation_date = 'string',\\n                        age/survival_time = 'string',\\n                        failure = 'string'\\n                        sensors = [column_names]\\n                            )\\n\""
      ]
     },
     "execution_count": null,
     "metadata": {},
     "output_type": "execute_result"
    }
   ],
   "source": [
    "# add feature function  - explain every feature\n",
    "\"\"\"\n",
    "Features.explain_features(machine_Unique_Identifer = 'string',\n",
    "                        machine_features = [column_names],\n",
    "                        observation_date = 'string',\n",
    "                        age/survival_time = 'string',\n",
    "                        failure = 'string'\n",
    "                        sensors = [column_names]\n",
    "                            )\n",
    "\"\"\""
   ]
  },
  {
   "cell_type": "code",
   "execution_count": null,
   "metadata": {},
   "outputs": [],
   "source": [
    "# machine_unique_identifier\n",
    "unique_device_types = pd.DataFrame(machine_data.groupby(['device']).agg(['count']))\n",
    "print(f\"There are {(unique_device_types.shape)[0]} unique machines\")"
   ]
  },
  {
   "cell_type": "code",
   "execution_count": null,
   "metadata": {},
   "outputs": [],
   "source": [
    "# Date of observation\n",
    "unique_observation_dates = pd.DataFrame(machine_data.groupby(['date']).agg(['count']))\n",
    "print(f\"Observations are recorded for {(unique_observation_dates.shape)[0]} days\")\n",
    "# temp = pd.DataFrame(data.groupby(['date']))"
   ]
  },
  {
   "cell_type": "code",
   "execution_count": null,
   "metadata": {},
   "outputs": [],
   "source": [
    "# failure rate\n",
    "failure_rate = machine_data.groupby(['failure'])['device'].agg('count')\n",
    "print(f\"Number of records where, \\nFailure = FALSE are {failure_rate[0]} \\nFailure = TRUE are {failure_rate[1]}\")\n",
    "print(f\"Percentage of failures : {failure_rate[1]*100/(machine_data.shape)[0] : .3f}%\")"
   ]
  },
  {
   "cell_type": "code",
   "execution_count": null,
   "metadata": {},
   "outputs": [],
   "source": [
    "# ------data transformation------\n",
    "\n",
    "\"\"\"if RUL or survival time or age of equipment is not given calculate it from date and failure columns\"\"\"\n",
    "\n",
    "# format datetime field which comes in as string\n",
    "machine_data['date'] = pd.to_datetime(machine_data['date'],format = 'mixed')\n",
    "\n",
    "# group by machine ID and find the last date of observation for each machine\n",
    "last_observation_dates = machine_data.groupby('device')['date'].max().reset_index()\n",
    "machine_data_rul = pd.merge(machine_data, last_observation_dates, on='device')  \n",
    "# print(machine_data_rul.shape)\n",
    "\n",
    "# calculate the time difference between the last observation date and each observation date for that machine\n",
    "time_diff = machine_data_rul['date_y'] - machine_data_rul['date_x']\n",
    "\n",
    "# calculate the RUL for each observation\n",
    "machine_data_rul['RUL'] = (time_diff.dt.days).astype(int)\n",
    "machine_data_rul.sort_values(by='date_x',inplace=True)\n",
    "\n",
    "# view modified dataset after adding RUL and dropping intermediate columns created\n",
    "machine_data_rul.reset_index(inplace=True)\n",
    "\n",
    "# drop intermediate columns function\n",
    "machine_data_rul.drop(columns=['index','date_y'],axis=0,inplace=True)\n",
    "\n",
    "machine_data_rul.head()"
   ]
  },
  {
   "cell_type": "code",
   "execution_count": null,
   "metadata": {},
   "outputs": [],
   "source": [
    "# encoding categorical variables to numerical\n",
    "machine_data_rul['device'] = pd.factorize(machine_data_rul['device'])[0]\n",
    "machine_data_rul.head()"
   ]
  },
  {
   "cell_type": "code",
   "execution_count": null,
   "metadata": {},
   "outputs": [],
   "source": [
    "# defining rul time and failure event columns\n",
    "rul_time = machine_data_rul['RUL']\n",
    "failure_event = machine_data_rul['failure']\n",
    "\n",
    "# define features\n",
    "features = np.setdiff1d(machine_data_rul.columns, ['RUL', 'failure','date_x']).tolist()"
   ]
  },
  {
   "cell_type": "markdown",
   "metadata": {},
   "source": [
    "# Visualization"
   ]
  },
  {
   "cell_type": "code",
   "execution_count": null,
   "metadata": {},
   "outputs": [],
   "source": [
    "# failure column\n",
    "Visualize.plot(feature_type='event',feature='failure',dataset=machine_data_rul)"
   ]
  },
  {
   "cell_type": "code",
   "execution_count": null,
   "metadata": {},
   "outputs": [],
   "source": [
    "# rul column\n",
    "Visualize.plot(feature_type='time',feature='RUL',dataset=machine_data_rul)"
   ]
  },
  {
   "cell_type": "code",
   "execution_count": null,
   "metadata": {},
   "outputs": [],
   "source": [
    "# visualize\n",
    "cats = ['device']\n",
    "nums = ['metric1','metric2','metric3','metric4','metric5','metric6','metric7','metric8','metric9']\n",
    "\n",
    "for feature in cats:\n",
    "    Visualize.plot(feature=feature,feature_type='Categorical',dataset=machine_data_rul)"
   ]
  },
  {
   "cell_type": "code",
   "execution_count": null,
   "metadata": {},
   "outputs": [],
   "source": [
    "for feature in nums:\n",
    "    Visualize.plot(feature=feature,feature_type='Numerical',dataset=machine_data_rul)"
   ]
  },
  {
   "cell_type": "code",
   "execution_count": null,
   "metadata": {},
   "outputs": [],
   "source": [
    "# there are too many outliers and data is not normally distributed"
   ]
  },
  {
   "cell_type": "markdown",
   "metadata": {},
   "source": [
    "# PreProcessing"
   ]
  },
  {
   "cell_type": "code",
   "execution_count": null,
   "metadata": {},
   "outputs": [],
   "source": []
  },
  {
   "cell_type": "code",
   "execution_count": null,
   "metadata": {},
   "outputs": [],
   "source": []
  },
  {
   "cell_type": "code",
   "execution_count": null,
   "metadata": {},
   "outputs": [],
   "source": [
    "#| hide\n",
    "import nbdev; nbdev.nbdev_export()"
   ]
  },
  {
   "cell_type": "code",
   "execution_count": null,
   "metadata": {},
   "outputs": [],
   "source": []
  }
 ],
 "metadata": {
  "kernelspec": {
   "display_name": "python3",
   "language": "python",
   "name": "python3"
  }
 },
 "nbformat": 4,
 "nbformat_minor": 4
}
