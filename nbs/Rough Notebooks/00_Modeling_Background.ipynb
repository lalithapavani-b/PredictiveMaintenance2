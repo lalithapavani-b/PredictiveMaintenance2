{
 "cells": [
  {
   "cell_type": "code",
   "execution_count": null,
   "id": "94116dfd",
   "metadata": {},
   "outputs": [],
   "source": [
    "#| hide\n",
    "%load_ext autoreload\n",
    "%autoreload 2"
   ]
  },
  {
   "cell_type": "code",
   "execution_count": null,
   "id": "6eb2c4d5",
   "metadata": {},
   "outputs": [],
   "source": [
    "#| default_exp modeBG"
   ]
  },
  {
   "cell_type": "code",
   "execution_count": null,
   "id": "6f0dcdfb",
   "metadata": {},
   "outputs": [],
   "source": [
    "#| hide\n",
    "from nbdev.showdoc import *"
   ]
  },
  {
   "cell_type": "code",
   "execution_count": null,
   "id": "d15234a8",
   "metadata": {},
   "outputs": [
    {
     "name": "stderr",
     "output_type": "stream",
     "text": [
      "F:\\Lalitha\\anaconda3\\envs\\Predictive-Maintenance\\lib\\site-packages\\tqdm\\auto.py:21: TqdmWarning: IProgress not found. Please update jupyter and ipywidgets. See https://ipywidgets.readthedocs.io/en/stable/user_install.html\n",
      "  from .autonotebook import tqdm as notebook_tqdm\n"
     ]
    }
   ],
   "source": [
    "#| export\n",
    "\n",
    "import shap\n",
    "import pandas as pd\n",
    "import numpy as np\n",
    "from boruta import BorutaPy\n",
    "\n",
    "from sklearn.preprocessing import StandardScaler\n",
    "from sklearn.model_selection import train_test_split,cross_val_score\n",
    "from sklearn.ensemble import RandomForestRegressor\n",
    "from sklearn.metrics import mean_squared_error, r2_score\n",
    "\n",
    "from sksurv.util import Surv\n",
    "from sksurv.datasets import load_flchain\n",
    "from sklearn.preprocessing import QuantileTransformer\n",
    "from sksurv.linear_model import CoxPHSurvivalAnalysis\n",
    "from sksurv.metrics import concordance_index_censored\n",
    "from sksurv.svm import FastSurvivalSVM\n",
    "\n",
    "from PredictiveMaintenance2 import Datasets,Visualize,FeatureEng,Model"
   ]
  },
  {
   "cell_type": "code",
   "execution_count": null,
   "id": "048b931f",
   "metadata": {},
   "outputs": [
    {
     "data": {
      "text/html": [
       "<div>\n",
       "<style scoped>\n",
       "    .dataframe tbody tr th:only-of-type {\n",
       "        vertical-align: middle;\n",
       "    }\n",
       "\n",
       "    .dataframe tbody tr th {\n",
       "        vertical-align: top;\n",
       "    }\n",
       "\n",
       "    .dataframe thead th {\n",
       "        text-align: right;\n",
       "    }\n",
       "</style>\n",
       "<table border=\"1\" class=\"dataframe\">\n",
       "  <thead>\n",
       "    <tr style=\"text-align: right;\">\n",
       "      <th></th>\n",
       "      <th>date</th>\n",
       "      <th>device</th>\n",
       "      <th>failure</th>\n",
       "      <th>metric1</th>\n",
       "      <th>metric2</th>\n",
       "      <th>metric3</th>\n",
       "      <th>metric4</th>\n",
       "      <th>metric5</th>\n",
       "      <th>metric6</th>\n",
       "      <th>metric7</th>\n",
       "      <th>metric8</th>\n",
       "      <th>metric9</th>\n",
       "      <th>last_failure</th>\n",
       "      <th>RUL</th>\n",
       "      <th>SurvivalTime</th>\n",
       "    </tr>\n",
       "  </thead>\n",
       "  <tbody>\n",
       "    <tr>\n",
       "      <th>0</th>\n",
       "      <td>2015-01-01</td>\n",
       "      <td>0</td>\n",
       "      <td>0</td>\n",
       "      <td>141503600</td>\n",
       "      <td>0</td>\n",
       "      <td>0</td>\n",
       "      <td>1</td>\n",
       "      <td>19</td>\n",
       "      <td>494462</td>\n",
       "      <td>16</td>\n",
       "      <td>16</td>\n",
       "      <td>3</td>\n",
       "      <td>1</td>\n",
       "      <td>18</td>\n",
       "      <td>1</td>\n",
       "    </tr>\n",
       "    <tr>\n",
       "      <th>1</th>\n",
       "      <td>2015-01-01</td>\n",
       "      <td>1</td>\n",
       "      <td>0</td>\n",
       "      <td>55587136</td>\n",
       "      <td>0</td>\n",
       "      <td>0</td>\n",
       "      <td>0</td>\n",
       "      <td>7</td>\n",
       "      <td>199132</td>\n",
       "      <td>0</td>\n",
       "      <td>0</td>\n",
       "      <td>0</td>\n",
       "      <td>1</td>\n",
       "      <td>214</td>\n",
       "      <td>1</td>\n",
       "    </tr>\n",
       "  </tbody>\n",
       "</table>\n",
       "</div>"
      ],
      "text/plain": [
       "         date  device  failure    metric1  metric2  metric3  metric4  metric5   \n",
       "0  2015-01-01       0        0  141503600        0        0        1       19  \\\n",
       "1  2015-01-01       1        0   55587136        0        0        0        7   \n",
       "\n",
       "   metric6  metric7  metric8  metric9  last_failure  RUL  SurvivalTime  \n",
       "0   494462       16       16        3             1   18             1  \n",
       "1   199132        0        0        0             1  214             1  "
      ]
     },
     "execution_count": null,
     "metadata": {},
     "output_type": "execute_result"
    }
   ],
   "source": [
    "# load pre processed dataset\n",
    "machineData = pd.read_csv(r'C:\\Users\\Lalitha\\Desktop\\GyanData\\predictive-maintenance\\PredictiveMaintenance2\\nbs\\Machine_Data_Preprocessed.csv')\n",
    "machineData.head(2)"
   ]
  },
  {
   "cell_type": "code",
   "execution_count": null,
   "id": "a1f80618",
   "metadata": {},
   "outputs": [
    {
     "data": {
      "text/html": [
       "<div>\n",
       "<style scoped>\n",
       "    .dataframe tbody tr th:only-of-type {\n",
       "        vertical-align: middle;\n",
       "    }\n",
       "\n",
       "    .dataframe tbody tr th {\n",
       "        vertical-align: top;\n",
       "    }\n",
       "\n",
       "    .dataframe thead th {\n",
       "        text-align: right;\n",
       "    }\n",
       "</style>\n",
       "<table border=\"1\" class=\"dataframe\">\n",
       "  <thead>\n",
       "    <tr style=\"text-align: right;\">\n",
       "      <th></th>\n",
       "      <th>date</th>\n",
       "      <th>device</th>\n",
       "      <th>failure</th>\n",
       "      <th>metric1</th>\n",
       "      <th>metric2</th>\n",
       "      <th>metric3</th>\n",
       "      <th>metric4</th>\n",
       "      <th>metric5</th>\n",
       "      <th>metric6</th>\n",
       "      <th>metric7</th>\n",
       "      <th>metric8</th>\n",
       "      <th>metric9</th>\n",
       "      <th>last_failure</th>\n",
       "      <th>RUL</th>\n",
       "      <th>SurvivalTime</th>\n",
       "    </tr>\n",
       "  </thead>\n",
       "  <tbody>\n",
       "    <tr>\n",
       "      <th>0</th>\n",
       "      <td>2015-01-01</td>\n",
       "      <td>0</td>\n",
       "      <td>0</td>\n",
       "      <td>141503600</td>\n",
       "      <td>0</td>\n",
       "      <td>0</td>\n",
       "      <td>1</td>\n",
       "      <td>19</td>\n",
       "      <td>494462</td>\n",
       "      <td>16</td>\n",
       "      <td>16</td>\n",
       "      <td>3</td>\n",
       "      <td>1</td>\n",
       "      <td>18</td>\n",
       "      <td>1</td>\n",
       "    </tr>\n",
       "    <tr>\n",
       "      <th>1</th>\n",
       "      <td>2015-01-02</td>\n",
       "      <td>0</td>\n",
       "      <td>0</td>\n",
       "      <td>161679800</td>\n",
       "      <td>0</td>\n",
       "      <td>0</td>\n",
       "      <td>1</td>\n",
       "      <td>19</td>\n",
       "      <td>495730</td>\n",
       "      <td>16</td>\n",
       "      <td>16</td>\n",
       "      <td>3</td>\n",
       "      <td>1</td>\n",
       "      <td>17</td>\n",
       "      <td>2</td>\n",
       "    </tr>\n",
       "  </tbody>\n",
       "</table>\n",
       "</div>"
      ],
      "text/plain": [
       "         date  device  failure    metric1  metric2  metric3  metric4  metric5   \n",
       "0  2015-01-01       0        0  141503600        0        0        1       19  \\\n",
       "1  2015-01-02       0        0  161679800        0        0        1       19   \n",
       "\n",
       "   metric6  metric7  metric8  metric9  last_failure  RUL  SurvivalTime  \n",
       "0   494462       16       16        3             1   18             1  \n",
       "1   495730       16       16        3             1   17             2  "
      ]
     },
     "execution_count": null,
     "metadata": {},
     "output_type": "execute_result"
    }
   ],
   "source": [
    "# sort values by device and date\n",
    "machineData = machineData.sort_values(['device','date'],ascending= True).reset_index(drop=True)\n",
    "machineData.head(2)"
   ]
  },
  {
   "cell_type": "code",
   "execution_count": null,
   "id": "fc516be7",
   "metadata": {},
   "outputs": [],
   "source": [
    "x = machineData.drop(['date','failure','RUL','SurvivalTime'],axis=1)\n",
    "y = machineData['RUL']\n",
    "\n",
    "# split the data\n",
    "x_train, x_test, y_train, y_test = train_test_split(x,y, test_size=0.2, random_state=42)\n",
    "\n",
    "# standardize the features\n",
    "scaler = StandardScaler()\n",
    "x_train_scaled = scaler.fit_transform(x_train)\n",
    "x_test_scaled = scaler.fit_transform(x_test)"
   ]
  },
  {
   "cell_type": "code",
   "execution_count": null,
   "id": "2d908273",
   "metadata": {},
   "outputs": [],
   "source": [
    "# convert train and test dataset to numpy array for applying boruta\n",
    "x_train = x_train.to_numpy()\n",
    "x_test = x_test.to_numpy()"
   ]
  },
  {
   "cell_type": "code",
   "execution_count": null,
   "id": "318b6f81",
   "metadata": {},
   "outputs": [
    {
     "name": "stdout",
     "output_type": "stream",
     "text": [
      "Iteration: \t1 / 100\n",
      "Confirmed: \t0\n",
      "Tentative: \t11\n",
      "Rejected: \t0\n",
      "Iteration: \t2 / 100\n",
      "Confirmed: \t0\n",
      "Tentative: \t11\n",
      "Rejected: \t0\n",
      "Iteration: \t3 / 100\n",
      "Confirmed: \t0\n",
      "Tentative: \t11\n",
      "Rejected: \t0\n",
      "Iteration: \t4 / 100\n",
      "Confirmed: \t0\n",
      "Tentative: \t11\n",
      "Rejected: \t0\n",
      "Iteration: \t5 / 100\n",
      "Confirmed: \t0\n",
      "Tentative: \t11\n",
      "Rejected: \t0\n",
      "Iteration: \t6 / 100\n",
      "Confirmed: \t0\n",
      "Tentative: \t11\n",
      "Rejected: \t0\n",
      "Iteration: \t7 / 100\n",
      "Confirmed: \t0\n",
      "Tentative: \t11\n",
      "Rejected: \t0\n",
      "Iteration: \t8 / 100\n",
      "Confirmed: \t8\n",
      "Tentative: \t3\n",
      "Rejected: \t0\n",
      "Iteration: \t9 / 100\n",
      "Confirmed: \t8\n",
      "Tentative: \t3\n",
      "Rejected: \t0\n",
      "Iteration: \t10 / 100\n",
      "Confirmed: \t8\n",
      "Tentative: \t3\n",
      "Rejected: \t0\n",
      "Iteration: \t11 / 100\n",
      "Confirmed: \t8\n",
      "Tentative: \t3\n",
      "Rejected: \t0\n",
      "Iteration: \t12 / 100\n",
      "Confirmed: \t8\n",
      "Tentative: \t3\n",
      "Rejected: \t0\n",
      "Iteration: \t13 / 100\n",
      "Confirmed: \t8\n",
      "Tentative: \t3\n",
      "Rejected: \t0\n",
      "Iteration: \t14 / 100\n",
      "Confirmed: \t8\n",
      "Tentative: \t3\n",
      "Rejected: \t0\n",
      "Iteration: \t15 / 100\n",
      "Confirmed: \t8\n",
      "Tentative: \t3\n",
      "Rejected: \t0\n",
      "Iteration: \t16 / 100\n",
      "Confirmed: \t8\n",
      "Tentative: \t3\n",
      "Rejected: \t0\n",
      "Iteration: \t17 / 100\n",
      "Confirmed: \t8\n",
      "Tentative: \t3\n",
      "Rejected: \t0\n",
      "Iteration: \t18 / 100\n",
      "Confirmed: \t8\n",
      "Tentative: \t3\n",
      "Rejected: \t0\n",
      "Iteration: \t19 / 100\n",
      "Confirmed: \t8\n",
      "Tentative: \t3\n",
      "Rejected: \t0\n",
      "Iteration: \t20 / 100\n",
      "Confirmed: \t8\n",
      "Tentative: \t3\n",
      "Rejected: \t0\n",
      "Iteration: \t21 / 100\n",
      "Confirmed: \t8\n",
      "Tentative: \t3\n",
      "Rejected: \t0\n",
      "Iteration: \t22 / 100\n",
      "Confirmed: \t8\n",
      "Tentative: \t3\n",
      "Rejected: \t0\n",
      "Iteration: \t23 / 100\n",
      "Confirmed: \t8\n",
      "Tentative: \t3\n",
      "Rejected: \t0\n",
      "Iteration: \t24 / 100\n",
      "Confirmed: \t8\n",
      "Tentative: \t3\n",
      "Rejected: \t0\n",
      "Iteration: \t25 / 100\n",
      "Confirmed: \t8\n",
      "Tentative: \t3\n",
      "Rejected: \t0\n",
      "Iteration: \t26 / 100\n",
      "Confirmed: \t8\n",
      "Tentative: \t3\n",
      "Rejected: \t0\n",
      "Iteration: \t27 / 100\n",
      "Confirmed: \t8\n",
      "Tentative: \t3\n",
      "Rejected: \t0\n",
      "Iteration: \t28 / 100\n",
      "Confirmed: \t8\n",
      "Tentative: \t3\n",
      "Rejected: \t0\n",
      "Iteration: \t29 / 100\n",
      "Confirmed: \t8\n",
      "Tentative: \t3\n",
      "Rejected: \t0\n",
      "Iteration: \t30 / 100\n",
      "Confirmed: \t8\n",
      "Tentative: \t3\n",
      "Rejected: \t0\n",
      "Iteration: \t31 / 100\n",
      "Confirmed: \t8\n",
      "Tentative: \t3\n",
      "Rejected: \t0\n",
      "Iteration: \t32 / 100\n",
      "Confirmed: \t8\n",
      "Tentative: \t3\n",
      "Rejected: \t0\n",
      "Iteration: \t33 / 100\n",
      "Confirmed: \t8\n",
      "Tentative: \t3\n",
      "Rejected: \t0\n",
      "Iteration: \t34 / 100\n",
      "Confirmed: \t8\n",
      "Tentative: \t3\n",
      "Rejected: \t0\n",
      "Iteration: \t35 / 100\n",
      "Confirmed: \t8\n",
      "Tentative: \t3\n",
      "Rejected: \t0\n",
      "Iteration: \t36 / 100\n",
      "Confirmed: \t8\n",
      "Tentative: \t3\n",
      "Rejected: \t0\n",
      "Iteration: \t37 / 100\n",
      "Confirmed: \t8\n",
      "Tentative: \t3\n",
      "Rejected: \t0\n",
      "Iteration: \t38 / 100\n",
      "Confirmed: \t8\n",
      "Tentative: \t3\n",
      "Rejected: \t0\n",
      "Iteration: \t39 / 100\n",
      "Confirmed: \t8\n",
      "Tentative: \t3\n",
      "Rejected: \t0\n",
      "Iteration: \t40 / 100\n",
      "Confirmed: \t8\n",
      "Tentative: \t3\n",
      "Rejected: \t0\n",
      "Iteration: \t41 / 100\n",
      "Confirmed: \t8\n",
      "Tentative: \t3\n",
      "Rejected: \t0\n",
      "Iteration: \t42 / 100\n",
      "Confirmed: \t8\n",
      "Tentative: \t3\n",
      "Rejected: \t0\n",
      "Iteration: \t43 / 100\n",
      "Confirmed: \t8\n",
      "Tentative: \t3\n",
      "Rejected: \t0\n",
      "Iteration: \t44 / 100\n",
      "Confirmed: \t8\n",
      "Tentative: \t3\n",
      "Rejected: \t0\n",
      "Iteration: \t45 / 100\n",
      "Confirmed: \t8\n",
      "Tentative: \t3\n",
      "Rejected: \t0\n",
      "Iteration: \t46 / 100\n",
      "Confirmed: \t8\n",
      "Tentative: \t3\n",
      "Rejected: \t0\n",
      "Iteration: \t47 / 100\n",
      "Confirmed: \t8\n",
      "Tentative: \t3\n",
      "Rejected: \t0\n",
      "Iteration: \t48 / 100\n",
      "Confirmed: \t8\n",
      "Tentative: \t3\n",
      "Rejected: \t0\n",
      "Iteration: \t49 / 100\n",
      "Confirmed: \t8\n",
      "Tentative: \t3\n",
      "Rejected: \t0\n",
      "Iteration: \t50 / 100\n",
      "Confirmed: \t8\n",
      "Tentative: \t3\n",
      "Rejected: \t0\n",
      "Iteration: \t51 / 100\n",
      "Confirmed: \t8\n",
      "Tentative: \t3\n",
      "Rejected: \t0\n",
      "Iteration: \t52 / 100\n",
      "Confirmed: \t8\n",
      "Tentative: \t3\n",
      "Rejected: \t0\n",
      "Iteration: \t53 / 100\n",
      "Confirmed: \t8\n",
      "Tentative: \t3\n",
      "Rejected: \t0\n",
      "Iteration: \t54 / 100\n",
      "Confirmed: \t8\n",
      "Tentative: \t3\n",
      "Rejected: \t0\n",
      "Iteration: \t55 / 100\n",
      "Confirmed: \t8\n",
      "Tentative: \t3\n",
      "Rejected: \t0\n",
      "Iteration: \t56 / 100\n",
      "Confirmed: \t8\n",
      "Tentative: \t3\n",
      "Rejected: \t0\n",
      "Iteration: \t57 / 100\n",
      "Confirmed: \t8\n",
      "Tentative: \t3\n",
      "Rejected: \t0\n",
      "Iteration: \t58 / 100\n",
      "Confirmed: \t8\n",
      "Tentative: \t3\n",
      "Rejected: \t0\n",
      "Iteration: \t59 / 100\n",
      "Confirmed: \t8\n",
      "Tentative: \t3\n",
      "Rejected: \t0\n",
      "Iteration: \t60 / 100\n",
      "Confirmed: \t8\n",
      "Tentative: \t3\n",
      "Rejected: \t0\n",
      "Iteration: \t61 / 100\n",
      "Confirmed: \t8\n",
      "Tentative: \t3\n",
      "Rejected: \t0\n",
      "Iteration: \t62 / 100\n",
      "Confirmed: \t8\n",
      "Tentative: \t3\n",
      "Rejected: \t0\n",
      "Iteration: \t63 / 100\n",
      "Confirmed: \t8\n",
      "Tentative: \t3\n",
      "Rejected: \t0\n",
      "Iteration: \t64 / 100\n",
      "Confirmed: \t8\n",
      "Tentative: \t3\n",
      "Rejected: \t0\n",
      "Iteration: \t65 / 100\n",
      "Confirmed: \t8\n",
      "Tentative: \t3\n",
      "Rejected: \t0\n",
      "Iteration: \t66 / 100\n",
      "Confirmed: \t8\n",
      "Tentative: \t3\n",
      "Rejected: \t0\n",
      "Iteration: \t67 / 100\n",
      "Confirmed: \t8\n",
      "Tentative: \t3\n",
      "Rejected: \t0\n",
      "Iteration: \t68 / 100\n",
      "Confirmed: \t8\n",
      "Tentative: \t3\n",
      "Rejected: \t0\n",
      "Iteration: \t69 / 100\n",
      "Confirmed: \t8\n",
      "Tentative: \t3\n",
      "Rejected: \t0\n",
      "Iteration: \t70 / 100\n",
      "Confirmed: \t8\n",
      "Tentative: \t3\n",
      "Rejected: \t0\n",
      "Iteration: \t71 / 100\n",
      "Confirmed: \t8\n",
      "Tentative: \t3\n",
      "Rejected: \t0\n",
      "Iteration: \t72 / 100\n",
      "Confirmed: \t8\n",
      "Tentative: \t3\n",
      "Rejected: \t0\n",
      "Iteration: \t73 / 100\n",
      "Confirmed: \t8\n",
      "Tentative: \t3\n",
      "Rejected: \t0\n",
      "Iteration: \t74 / 100\n",
      "Confirmed: \t8\n",
      "Tentative: \t3\n",
      "Rejected: \t0\n",
      "Iteration: \t75 / 100\n",
      "Confirmed: \t8\n",
      "Tentative: \t3\n",
      "Rejected: \t0\n",
      "Iteration: \t76 / 100\n",
      "Confirmed: \t8\n",
      "Tentative: \t3\n",
      "Rejected: \t0\n",
      "Iteration: \t77 / 100\n",
      "Confirmed: \t8\n",
      "Tentative: \t3\n",
      "Rejected: \t0\n",
      "Iteration: \t78 / 100\n",
      "Confirmed: \t8\n",
      "Tentative: \t3\n",
      "Rejected: \t0\n",
      "Iteration: \t79 / 100\n",
      "Confirmed: \t8\n",
      "Tentative: \t3\n",
      "Rejected: \t0\n",
      "Iteration: \t80 / 100\n",
      "Confirmed: \t8\n",
      "Tentative: \t3\n",
      "Rejected: \t0\n",
      "Iteration: \t81 / 100\n",
      "Confirmed: \t8\n",
      "Tentative: \t3\n",
      "Rejected: \t0\n",
      "Iteration: \t82 / 100\n",
      "Confirmed: \t8\n",
      "Tentative: \t3\n",
      "Rejected: \t0\n",
      "Iteration: \t83 / 100\n",
      "Confirmed: \t8\n",
      "Tentative: \t3\n",
      "Rejected: \t0\n",
      "Iteration: \t84 / 100\n",
      "Confirmed: \t8\n",
      "Tentative: \t3\n",
      "Rejected: \t0\n",
      "Iteration: \t85 / 100\n",
      "Confirmed: \t8\n",
      "Tentative: \t3\n",
      "Rejected: \t0\n",
      "Iteration: \t86 / 100\n",
      "Confirmed: \t8\n",
      "Tentative: \t3\n",
      "Rejected: \t0\n",
      "Iteration: \t87 / 100\n",
      "Confirmed: \t8\n",
      "Tentative: \t3\n",
      "Rejected: \t0\n",
      "Iteration: \t88 / 100\n",
      "Confirmed: \t8\n",
      "Tentative: \t3\n",
      "Rejected: \t0\n",
      "Iteration: \t89 / 100\n",
      "Confirmed: \t8\n",
      "Tentative: \t3\n",
      "Rejected: \t0\n",
      "Iteration: \t90 / 100\n",
      "Confirmed: \t8\n",
      "Tentative: \t3\n",
      "Rejected: \t0\n",
      "Iteration: \t91 / 100\n",
      "Confirmed: \t8\n",
      "Tentative: \t3\n",
      "Rejected: \t0\n",
      "Iteration: \t92 / 100\n",
      "Confirmed: \t8\n",
      "Tentative: \t3\n",
      "Rejected: \t0\n",
      "Iteration: \t93 / 100\n",
      "Confirmed: \t8\n",
      "Tentative: \t3\n",
      "Rejected: \t0\n",
      "Iteration: \t94 / 100\n",
      "Confirmed: \t8\n",
      "Tentative: \t3\n",
      "Rejected: \t0\n",
      "Iteration: \t95 / 100\n",
      "Confirmed: \t8\n",
      "Tentative: \t3\n",
      "Rejected: \t0\n",
      "Iteration: \t96 / 100\n",
      "Confirmed: \t8\n",
      "Tentative: \t3\n",
      "Rejected: \t0\n",
      "Iteration: \t97 / 100\n",
      "Confirmed: \t8\n",
      "Tentative: \t3\n",
      "Rejected: \t0\n",
      "Iteration: \t98 / 100\n",
      "Confirmed: \t8\n",
      "Tentative: \t3\n",
      "Rejected: \t0\n",
      "Iteration: \t99 / 100\n",
      "Confirmed: \t8\n",
      "Tentative: \t3\n",
      "Rejected: \t0\n",
      "\n",
      "\n",
      "BorutaPy finished running.\n",
      "\n",
      "Iteration: \t100 / 100\n",
      "Confirmed: \t8\n",
      "Tentative: \t0\n",
      "Rejected: \t0\n"
     ]
    },
    {
     "data": {
      "text/html": [
       "<style>#sk-container-id-1 {color: black;background-color: white;}#sk-container-id-1 pre{padding: 0;}#sk-container-id-1 div.sk-toggleable {background-color: white;}#sk-container-id-1 label.sk-toggleable__label {cursor: pointer;display: block;width: 100%;margin-bottom: 0;padding: 0.3em;box-sizing: border-box;text-align: center;}#sk-container-id-1 label.sk-toggleable__label-arrow:before {content: \"▸\";float: left;margin-right: 0.25em;color: #696969;}#sk-container-id-1 label.sk-toggleable__label-arrow:hover:before {color: black;}#sk-container-id-1 div.sk-estimator:hover label.sk-toggleable__label-arrow:before {color: black;}#sk-container-id-1 div.sk-toggleable__content {max-height: 0;max-width: 0;overflow: hidden;text-align: left;background-color: #f0f8ff;}#sk-container-id-1 div.sk-toggleable__content pre {margin: 0.2em;color: black;border-radius: 0.25em;background-color: #f0f8ff;}#sk-container-id-1 input.sk-toggleable__control:checked~div.sk-toggleable__content {max-height: 200px;max-width: 100%;overflow: auto;}#sk-container-id-1 input.sk-toggleable__control:checked~label.sk-toggleable__label-arrow:before {content: \"▾\";}#sk-container-id-1 div.sk-estimator input.sk-toggleable__control:checked~label.sk-toggleable__label {background-color: #d4ebff;}#sk-container-id-1 div.sk-label input.sk-toggleable__control:checked~label.sk-toggleable__label {background-color: #d4ebff;}#sk-container-id-1 input.sk-hidden--visually {border: 0;clip: rect(1px 1px 1px 1px);clip: rect(1px, 1px, 1px, 1px);height: 1px;margin: -1px;overflow: hidden;padding: 0;position: absolute;width: 1px;}#sk-container-id-1 div.sk-estimator {font-family: monospace;background-color: #f0f8ff;border: 1px dotted black;border-radius: 0.25em;box-sizing: border-box;margin-bottom: 0.5em;}#sk-container-id-1 div.sk-estimator:hover {background-color: #d4ebff;}#sk-container-id-1 div.sk-parallel-item::after {content: \"\";width: 100%;border-bottom: 1px solid gray;flex-grow: 1;}#sk-container-id-1 div.sk-label:hover label.sk-toggleable__label {background-color: #d4ebff;}#sk-container-id-1 div.sk-serial::before {content: \"\";position: absolute;border-left: 1px solid gray;box-sizing: border-box;top: 0;bottom: 0;left: 50%;z-index: 0;}#sk-container-id-1 div.sk-serial {display: flex;flex-direction: column;align-items: center;background-color: white;padding-right: 0.2em;padding-left: 0.2em;position: relative;}#sk-container-id-1 div.sk-item {position: relative;z-index: 1;}#sk-container-id-1 div.sk-parallel {display: flex;align-items: stretch;justify-content: center;background-color: white;position: relative;}#sk-container-id-1 div.sk-item::before, #sk-container-id-1 div.sk-parallel-item::before {content: \"\";position: absolute;border-left: 1px solid gray;box-sizing: border-box;top: 0;bottom: 0;left: 50%;z-index: -1;}#sk-container-id-1 div.sk-parallel-item {display: flex;flex-direction: column;z-index: 1;position: relative;background-color: white;}#sk-container-id-1 div.sk-parallel-item:first-child::after {align-self: flex-end;width: 50%;}#sk-container-id-1 div.sk-parallel-item:last-child::after {align-self: flex-start;width: 50%;}#sk-container-id-1 div.sk-parallel-item:only-child::after {width: 0;}#sk-container-id-1 div.sk-dashed-wrapped {border: 1px dashed gray;margin: 0 0.4em 0.5em 0.4em;box-sizing: border-box;padding-bottom: 0.4em;background-color: white;}#sk-container-id-1 div.sk-label label {font-family: monospace;font-weight: bold;display: inline-block;line-height: 1.2em;}#sk-container-id-1 div.sk-label-container {text-align: center;}#sk-container-id-1 div.sk-container {/* jupyter's `normalize.less` sets `[hidden] { display: none; }` but bootstrap.min.css set `[hidden] { display: none !important; }` so we also need the `!important` here to be able to override the default hidden behavior on the sphinx rendered scikit-learn.org. See: https://github.com/scikit-learn/scikit-learn/issues/21755 */display: inline-block !important;position: relative;}#sk-container-id-1 div.sk-text-repr-fallback {display: none;}</style><div id=\"sk-container-id-1\" class=\"sk-top-container\"><div class=\"sk-text-repr-fallback\"><pre>BorutaPy(estimator=RandomForestRegressor(n_estimators=46,\n",
       "                                         random_state=RandomState(MT19937) at 0x2A410022240),\n",
       "         n_estimators=&#x27;auto&#x27;,\n",
       "         random_state=RandomState(MT19937) at 0x2A410022240, verbose=2)</pre><b>In a Jupyter environment, please rerun this cell to show the HTML representation or trust the notebook. <br />On GitHub, the HTML representation is unable to render, please try loading this page with nbviewer.org.</b></div><div class=\"sk-container\" hidden><div class=\"sk-item sk-dashed-wrapped\"><div class=\"sk-label-container\"><div class=\"sk-label sk-toggleable\"><input class=\"sk-toggleable__control sk-hidden--visually\" id=\"sk-estimator-id-1\" type=\"checkbox\" ><label for=\"sk-estimator-id-1\" class=\"sk-toggleable__label sk-toggleable__label-arrow\">BorutaPy</label><div class=\"sk-toggleable__content\"><pre>BorutaPy(estimator=RandomForestRegressor(n_estimators=46,\n",
       "                                         random_state=RandomState(MT19937) at 0x2A410022240),\n",
       "         n_estimators=&#x27;auto&#x27;,\n",
       "         random_state=RandomState(MT19937) at 0x2A410022240, verbose=2)</pre></div></div></div><div class=\"sk-parallel\"><div class=\"sk-parallel-item\"><div class=\"sk-item\"><div class=\"sk-label-container\"><div class=\"sk-label sk-toggleable\"><input class=\"sk-toggleable__control sk-hidden--visually\" id=\"sk-estimator-id-2\" type=\"checkbox\" ><label for=\"sk-estimator-id-2\" class=\"sk-toggleable__label sk-toggleable__label-arrow\">estimator: RandomForestRegressor</label><div class=\"sk-toggleable__content\"><pre>RandomForestRegressor(n_estimators=46,\n",
       "                      random_state=RandomState(MT19937) at 0x2A410022240)</pre></div></div></div><div class=\"sk-serial\"><div class=\"sk-item\"><div class=\"sk-estimator sk-toggleable\"><input class=\"sk-toggleable__control sk-hidden--visually\" id=\"sk-estimator-id-3\" type=\"checkbox\" ><label for=\"sk-estimator-id-3\" class=\"sk-toggleable__label sk-toggleable__label-arrow\">RandomForestRegressor</label><div class=\"sk-toggleable__content\"><pre>RandomForestRegressor(n_estimators=46,\n",
       "                      random_state=RandomState(MT19937) at 0x2A410022240)</pre></div></div></div></div></div></div></div></div></div></div>"
      ],
      "text/plain": [
       "BorutaPy(estimator=RandomForestRegressor(n_estimators=46,\n",
       "                                         random_state=RandomState(MT19937) at 0x2A410022240),\n",
       "         n_estimators='auto',\n",
       "         random_state=RandomState(MT19937) at 0x2A410022240, verbose=2)"
      ]
     },
     "execution_count": null,
     "metadata": {},
     "output_type": "execute_result"
    }
   ],
   "source": [
    "# Instantiate the random forest regressor\n",
    "rf = RandomForestRegressor(n_estimators=100, random_state=42)\n",
    "\n",
    "# Instantiate the Boruta object\n",
    "boruta = BorutaPy(estimator=rf, n_estimators='auto', verbose=2, alpha=0.05, max_iter=100, random_state=42)\n",
    "\n",
    "# Fit the Boruta object to the training data\n",
    "boruta.fit(x_train, y_train)"
   ]
  },
  {
   "cell_type": "code",
   "execution_count": null,
   "id": "fadec1c3",
   "metadata": {},
   "outputs": [],
   "source": [
    "# Get the selected features\n",
    "selected_features = boruta.support_\n",
    "\n",
    "# Train a regression model using the selected features\n",
    "x_train_sel = x_train[:, selected_features]\n",
    "x_test_sel = x_test[:, selected_features]"
   ]
  },
  {
   "cell_type": "code",
   "execution_count": null,
   "id": "5bf515f9",
   "metadata": {},
   "outputs": [
    {
     "data": {
      "text/html": [
       "<style>#sk-container-id-2 {color: black;background-color: white;}#sk-container-id-2 pre{padding: 0;}#sk-container-id-2 div.sk-toggleable {background-color: white;}#sk-container-id-2 label.sk-toggleable__label {cursor: pointer;display: block;width: 100%;margin-bottom: 0;padding: 0.3em;box-sizing: border-box;text-align: center;}#sk-container-id-2 label.sk-toggleable__label-arrow:before {content: \"▸\";float: left;margin-right: 0.25em;color: #696969;}#sk-container-id-2 label.sk-toggleable__label-arrow:hover:before {color: black;}#sk-container-id-2 div.sk-estimator:hover label.sk-toggleable__label-arrow:before {color: black;}#sk-container-id-2 div.sk-toggleable__content {max-height: 0;max-width: 0;overflow: hidden;text-align: left;background-color: #f0f8ff;}#sk-container-id-2 div.sk-toggleable__content pre {margin: 0.2em;color: black;border-radius: 0.25em;background-color: #f0f8ff;}#sk-container-id-2 input.sk-toggleable__control:checked~div.sk-toggleable__content {max-height: 200px;max-width: 100%;overflow: auto;}#sk-container-id-2 input.sk-toggleable__control:checked~label.sk-toggleable__label-arrow:before {content: \"▾\";}#sk-container-id-2 div.sk-estimator input.sk-toggleable__control:checked~label.sk-toggleable__label {background-color: #d4ebff;}#sk-container-id-2 div.sk-label input.sk-toggleable__control:checked~label.sk-toggleable__label {background-color: #d4ebff;}#sk-container-id-2 input.sk-hidden--visually {border: 0;clip: rect(1px 1px 1px 1px);clip: rect(1px, 1px, 1px, 1px);height: 1px;margin: -1px;overflow: hidden;padding: 0;position: absolute;width: 1px;}#sk-container-id-2 div.sk-estimator {font-family: monospace;background-color: #f0f8ff;border: 1px dotted black;border-radius: 0.25em;box-sizing: border-box;margin-bottom: 0.5em;}#sk-container-id-2 div.sk-estimator:hover {background-color: #d4ebff;}#sk-container-id-2 div.sk-parallel-item::after {content: \"\";width: 100%;border-bottom: 1px solid gray;flex-grow: 1;}#sk-container-id-2 div.sk-label:hover label.sk-toggleable__label {background-color: #d4ebff;}#sk-container-id-2 div.sk-serial::before {content: \"\";position: absolute;border-left: 1px solid gray;box-sizing: border-box;top: 0;bottom: 0;left: 50%;z-index: 0;}#sk-container-id-2 div.sk-serial {display: flex;flex-direction: column;align-items: center;background-color: white;padding-right: 0.2em;padding-left: 0.2em;position: relative;}#sk-container-id-2 div.sk-item {position: relative;z-index: 1;}#sk-container-id-2 div.sk-parallel {display: flex;align-items: stretch;justify-content: center;background-color: white;position: relative;}#sk-container-id-2 div.sk-item::before, #sk-container-id-2 div.sk-parallel-item::before {content: \"\";position: absolute;border-left: 1px solid gray;box-sizing: border-box;top: 0;bottom: 0;left: 50%;z-index: -1;}#sk-container-id-2 div.sk-parallel-item {display: flex;flex-direction: column;z-index: 1;position: relative;background-color: white;}#sk-container-id-2 div.sk-parallel-item:first-child::after {align-self: flex-end;width: 50%;}#sk-container-id-2 div.sk-parallel-item:last-child::after {align-self: flex-start;width: 50%;}#sk-container-id-2 div.sk-parallel-item:only-child::after {width: 0;}#sk-container-id-2 div.sk-dashed-wrapped {border: 1px dashed gray;margin: 0 0.4em 0.5em 0.4em;box-sizing: border-box;padding-bottom: 0.4em;background-color: white;}#sk-container-id-2 div.sk-label label {font-family: monospace;font-weight: bold;display: inline-block;line-height: 1.2em;}#sk-container-id-2 div.sk-label-container {text-align: center;}#sk-container-id-2 div.sk-container {/* jupyter's `normalize.less` sets `[hidden] { display: none; }` but bootstrap.min.css set `[hidden] { display: none !important; }` so we also need the `!important` here to be able to override the default hidden behavior on the sphinx rendered scikit-learn.org. See: https://github.com/scikit-learn/scikit-learn/issues/21755 */display: inline-block !important;position: relative;}#sk-container-id-2 div.sk-text-repr-fallback {display: none;}</style><div id=\"sk-container-id-2\" class=\"sk-top-container\"><div class=\"sk-text-repr-fallback\"><pre>RandomForestRegressor(random_state=42)</pre><b>In a Jupyter environment, please rerun this cell to show the HTML representation or trust the notebook. <br />On GitHub, the HTML representation is unable to render, please try loading this page with nbviewer.org.</b></div><div class=\"sk-container\" hidden><div class=\"sk-item\"><div class=\"sk-estimator sk-toggleable\"><input class=\"sk-toggleable__control sk-hidden--visually\" id=\"sk-estimator-id-4\" type=\"checkbox\" checked><label for=\"sk-estimator-id-4\" class=\"sk-toggleable__label sk-toggleable__label-arrow\">RandomForestRegressor</label><div class=\"sk-toggleable__content\"><pre>RandomForestRegressor(random_state=42)</pre></div></div></div></div></div>"
      ],
      "text/plain": [
       "RandomForestRegressor(random_state=42)"
      ]
     },
     "execution_count": null,
     "metadata": {},
     "output_type": "execute_result"
    }
   ],
   "source": [
    "# Create a Random Forest Regressor model\n",
    "rf_model = RandomForestRegressor(n_estimators=100, random_state=42)\n",
    "\n",
    "# Fit the model to the training data\n",
    "rf_model.fit(x_train_sel, y_train)"
   ]
  },
  {
   "cell_type": "code",
   "execution_count": null,
   "id": "81165035",
   "metadata": {},
   "outputs": [],
   "source": [
    "# Make predictions on the testing data\n",
    "y_pred = rf_model.predict(x_test_sel)"
   ]
  },
  {
   "cell_type": "code",
   "execution_count": null,
   "id": "4fe47119",
   "metadata": {},
   "outputs": [],
   "source": [
    "# Calculate the Mean Squared Error (MSE) and R-squared value of the predictions\n",
    "mse = mean_squared_error(y_test, y_pred)\n",
    "r2 = r2_score(y_test, y_pred)"
   ]
  },
  {
   "cell_type": "code",
   "execution_count": null,
   "id": "aadbe52e",
   "metadata": {},
   "outputs": [
    {
     "name": "stdout",
     "output_type": "stream",
     "text": [
      "Mean Squared Error: 75.41464153709978\n",
      "R-squared value: 0.9887159768571434\n"
     ]
    }
   ],
   "source": [
    "# Print the results\n",
    "print(f\"Mean Squared Error: {mse}\")\n",
    "print(f\"R-squared value: {r2}\")"
   ]
  },
  {
   "cell_type": "code",
   "execution_count": null,
   "id": "a86aa7b0",
   "metadata": {},
   "outputs": [
    {
     "name": "stdout",
     "output_type": "stream",
     "text": [
      "Cross-Validation Scores: [0.70059999 0.17081497 0.62553341 0.23529984 0.58875504]\n",
      "Mean Cross-Validation Score: 0.46420064767633457\n"
     ]
    }
   ],
   "source": [
    "# Perform cross-validation on the model\n",
    "scores = cross_val_score(rf_model,x,y, cv=5)\n",
    "print('Cross-Validation Scores:', scores)\n",
    "print('Mean Cross-Validation Score:', np.mean(scores))"
   ]
  },
  {
   "cell_type": "markdown",
   "id": "db9096be",
   "metadata": {},
   "source": [
    "# Probability of failure in next N days"
   ]
  },
  {
   "cell_type": "code",
   "execution_count": null,
   "id": "dcc79d8c",
   "metadata": {},
   "outputs": [
    {
     "name": "stdout",
     "output_type": "stream",
     "text": [
      "        date  device  failure    metric1  metric2  metric3  metric4  metric5   \n",
      "0 2015-01-19       0        1   64499464        0        0        1       19  \\\n",
      "1 2015-08-03       1        1  110199904      240        0        0        8   \n",
      "\n",
      "   metric6  metric7  metric8  metric9  last_failure  RUL  SurvivalTime  \n",
      "0   514661       16       16        3             1    0            19  \n",
      "1   294852        0        0        0             1    0           215  \n"
     ]
    }
   ],
   "source": [
    "machineData = pd.read_csv(r'C:\\Users\\Lalitha\\Desktop\\GyanData\\predictive-maintenance\\PredictiveMaintenance2\\nbs\\Machine_Data_Preprocessed.csv')\n",
    "\n",
    "# sort values by device and date\n",
    "machineData = machineData.sort_values(['device','date'],ascending= True).reset_index(drop=True)\n",
    "\n",
    "# get last record of each device\n",
    "machineData['date'] = pd.to_datetime(machineData['date'])\n",
    "last_date = machineData.groupby('device')['date'].transform(max) == machineData['date']\n",
    "\n",
    "# Filter the data to keep only the rows with the maximum observation date for each device\n",
    "machineData = machineData[last_date].reset_index(drop=True)\n",
    "\n",
    "# Print the final output\n",
    "print(machineData.head(2))"
   ]
  },
  {
   "cell_type": "code",
   "execution_count": null,
   "id": "cf7b307f",
   "metadata": {},
   "outputs": [
    {
     "data": {
      "text/plain": [
       "\"\\n# convert data into survival format\\nx = machineData.drop(['date', 'failure', 'RUL','SurvivalTime'], axis=1)\\ny = Surv.from_arrays(machineData['failure'], machineData['SurvivalTime'])\\n\""
      ]
     },
     "execution_count": null,
     "metadata": {},
     "output_type": "execute_result"
    }
   ],
   "source": [
    "\"\"\"\n",
    "# convert data into survival format\n",
    "x = machineData.drop(['date', 'failure', 'RUL','SurvivalTime'], axis=1)\n",
    "y = Surv.from_arrays(machineData['failure'], machineData['SurvivalTime'])\n",
    "\"\"\""
   ]
  },
  {
   "cell_type": "code",
   "execution_count": null,
   "id": "298c65e5",
   "metadata": {},
   "outputs": [],
   "source": [
    "# or\n",
    "# Create a structured array for the survival analysis\n",
    "x = machineData.drop(['date', 'failure', 'RUL','SurvivalTime'], axis=1)\n",
    "y = np.zeros(len(machineData), dtype=[('failure', 'bool'), ('SurvivalTime', 'float')])\n",
    "\n",
    "y['failure'] = machineData['failure'].astype(bool)\n",
    "y['SurvivalTime'] = machineData['SurvivalTime'].astype(float)"
   ]
  },
  {
   "cell_type": "code",
   "execution_count": null,
   "id": "da0a810c",
   "metadata": {},
   "outputs": [],
   "source": [
    "# Split the data into training and testing sets\n",
    "x_train, x_test, y_train, y_test = train_test_split(x,y,test_size=0.2,random_state=42)"
   ]
  },
  {
   "cell_type": "code",
   "execution_count": null,
   "id": "d15ad1e5",
   "metadata": {},
   "outputs": [
    {
     "name": "stderr",
     "output_type": "stream",
     "text": [
      "n_quantiles (1000) is greater than the total number of samples (109). n_quantiles is set to n_samples.\n"
     ]
    }
   ],
   "source": [
    "# Normalize the data using quantile normalization\n",
    "# n_quantiles = min(1000,machineData.shape[0])\n",
    "qn = QuantileTransformer(output_distribution='normal', random_state=42)\n",
    "x_train_norm = qn.fit_transform(x_train)\n",
    "x_test_norm = qn.transform(x_test)"
   ]
  },
  {
   "cell_type": "code",
   "execution_count": null,
   "id": "5801786e",
   "metadata": {},
   "outputs": [],
   "source": [
    "# feature selection"
   ]
  },
  {
   "cell_type": "code",
   "execution_count": null,
   "id": "efd790ad",
   "metadata": {},
   "outputs": [],
   "source": [
    "#| import\n",
    "from sklearn.model_selection import train_test_split\n",
    "from sklearn.feature_selection import SelectKBest"
   ]
  },
  {
   "cell_type": "code",
   "execution_count": null,
   "id": "64f4067e",
   "metadata": {},
   "outputs": [
    {
     "data": {
      "text/html": [
       "<style>#sk-container-id-3 {color: black;background-color: white;}#sk-container-id-3 pre{padding: 0;}#sk-container-id-3 div.sk-toggleable {background-color: white;}#sk-container-id-3 label.sk-toggleable__label {cursor: pointer;display: block;width: 100%;margin-bottom: 0;padding: 0.3em;box-sizing: border-box;text-align: center;}#sk-container-id-3 label.sk-toggleable__label-arrow:before {content: \"▸\";float: left;margin-right: 0.25em;color: #696969;}#sk-container-id-3 label.sk-toggleable__label-arrow:hover:before {color: black;}#sk-container-id-3 div.sk-estimator:hover label.sk-toggleable__label-arrow:before {color: black;}#sk-container-id-3 div.sk-toggleable__content {max-height: 0;max-width: 0;overflow: hidden;text-align: left;background-color: #f0f8ff;}#sk-container-id-3 div.sk-toggleable__content pre {margin: 0.2em;color: black;border-radius: 0.25em;background-color: #f0f8ff;}#sk-container-id-3 input.sk-toggleable__control:checked~div.sk-toggleable__content {max-height: 200px;max-width: 100%;overflow: auto;}#sk-container-id-3 input.sk-toggleable__control:checked~label.sk-toggleable__label-arrow:before {content: \"▾\";}#sk-container-id-3 div.sk-estimator input.sk-toggleable__control:checked~label.sk-toggleable__label {background-color: #d4ebff;}#sk-container-id-3 div.sk-label input.sk-toggleable__control:checked~label.sk-toggleable__label {background-color: #d4ebff;}#sk-container-id-3 input.sk-hidden--visually {border: 0;clip: rect(1px 1px 1px 1px);clip: rect(1px, 1px, 1px, 1px);height: 1px;margin: -1px;overflow: hidden;padding: 0;position: absolute;width: 1px;}#sk-container-id-3 div.sk-estimator {font-family: monospace;background-color: #f0f8ff;border: 1px dotted black;border-radius: 0.25em;box-sizing: border-box;margin-bottom: 0.5em;}#sk-container-id-3 div.sk-estimator:hover {background-color: #d4ebff;}#sk-container-id-3 div.sk-parallel-item::after {content: \"\";width: 100%;border-bottom: 1px solid gray;flex-grow: 1;}#sk-container-id-3 div.sk-label:hover label.sk-toggleable__label {background-color: #d4ebff;}#sk-container-id-3 div.sk-serial::before {content: \"\";position: absolute;border-left: 1px solid gray;box-sizing: border-box;top: 0;bottom: 0;left: 50%;z-index: 0;}#sk-container-id-3 div.sk-serial {display: flex;flex-direction: column;align-items: center;background-color: white;padding-right: 0.2em;padding-left: 0.2em;position: relative;}#sk-container-id-3 div.sk-item {position: relative;z-index: 1;}#sk-container-id-3 div.sk-parallel {display: flex;align-items: stretch;justify-content: center;background-color: white;position: relative;}#sk-container-id-3 div.sk-item::before, #sk-container-id-3 div.sk-parallel-item::before {content: \"\";position: absolute;border-left: 1px solid gray;box-sizing: border-box;top: 0;bottom: 0;left: 50%;z-index: -1;}#sk-container-id-3 div.sk-parallel-item {display: flex;flex-direction: column;z-index: 1;position: relative;background-color: white;}#sk-container-id-3 div.sk-parallel-item:first-child::after {align-self: flex-end;width: 50%;}#sk-container-id-3 div.sk-parallel-item:last-child::after {align-self: flex-start;width: 50%;}#sk-container-id-3 div.sk-parallel-item:only-child::after {width: 0;}#sk-container-id-3 div.sk-dashed-wrapped {border: 1px dashed gray;margin: 0 0.4em 0.5em 0.4em;box-sizing: border-box;padding-bottom: 0.4em;background-color: white;}#sk-container-id-3 div.sk-label label {font-family: monospace;font-weight: bold;display: inline-block;line-height: 1.2em;}#sk-container-id-3 div.sk-label-container {text-align: center;}#sk-container-id-3 div.sk-container {/* jupyter's `normalize.less` sets `[hidden] { display: none; }` but bootstrap.min.css set `[hidden] { display: none !important; }` so we also need the `!important` here to be able to override the default hidden behavior on the sphinx rendered scikit-learn.org. See: https://github.com/scikit-learn/scikit-learn/issues/21755 */display: inline-block !important;position: relative;}#sk-container-id-3 div.sk-text-repr-fallback {display: none;}</style><div id=\"sk-container-id-3\" class=\"sk-top-container\"><div class=\"sk-text-repr-fallback\"><pre>CoxPHSurvivalAnalysis(alpha=0.05)</pre><b>In a Jupyter environment, please rerun this cell to show the HTML representation or trust the notebook. <br />On GitHub, the HTML representation is unable to render, please try loading this page with nbviewer.org.</b></div><div class=\"sk-container\" hidden><div class=\"sk-item\"><div class=\"sk-estimator sk-toggleable\"><input class=\"sk-toggleable__control sk-hidden--visually\" id=\"sk-estimator-id-5\" type=\"checkbox\" checked><label for=\"sk-estimator-id-5\" class=\"sk-toggleable__label sk-toggleable__label-arrow\">CoxPHSurvivalAnalysis</label><div class=\"sk-toggleable__content\"><pre>CoxPHSurvivalAnalysis(alpha=0.05)</pre></div></div></div></div></div>"
      ],
      "text/plain": [
       "CoxPHSurvivalAnalysis(alpha=0.05)"
      ]
     },
     "execution_count": null,
     "metadata": {},
     "output_type": "execute_result"
    }
   ],
   "source": [
    "# Train the Cox PH survival model\n",
    "estimator = CoxPHSurvivalAnalysis(alpha=0.05)\n",
    "estimator.fit(x_train_norm, y_train)"
   ]
  },
  {
   "cell_type": "code",
   "execution_count": null,
   "id": "0f8d9e7f",
   "metadata": {},
   "outputs": [
    {
     "data": {
      "text/html": [
       "<style>#sk-container-id-4 {color: black;background-color: white;}#sk-container-id-4 pre{padding: 0;}#sk-container-id-4 div.sk-toggleable {background-color: white;}#sk-container-id-4 label.sk-toggleable__label {cursor: pointer;display: block;width: 100%;margin-bottom: 0;padding: 0.3em;box-sizing: border-box;text-align: center;}#sk-container-id-4 label.sk-toggleable__label-arrow:before {content: \"▸\";float: left;margin-right: 0.25em;color: #696969;}#sk-container-id-4 label.sk-toggleable__label-arrow:hover:before {color: black;}#sk-container-id-4 div.sk-estimator:hover label.sk-toggleable__label-arrow:before {color: black;}#sk-container-id-4 div.sk-toggleable__content {max-height: 0;max-width: 0;overflow: hidden;text-align: left;background-color: #f0f8ff;}#sk-container-id-4 div.sk-toggleable__content pre {margin: 0.2em;color: black;border-radius: 0.25em;background-color: #f0f8ff;}#sk-container-id-4 input.sk-toggleable__control:checked~div.sk-toggleable__content {max-height: 200px;max-width: 100%;overflow: auto;}#sk-container-id-4 input.sk-toggleable__control:checked~label.sk-toggleable__label-arrow:before {content: \"▾\";}#sk-container-id-4 div.sk-estimator input.sk-toggleable__control:checked~label.sk-toggleable__label {background-color: #d4ebff;}#sk-container-id-4 div.sk-label input.sk-toggleable__control:checked~label.sk-toggleable__label {background-color: #d4ebff;}#sk-container-id-4 input.sk-hidden--visually {border: 0;clip: rect(1px 1px 1px 1px);clip: rect(1px, 1px, 1px, 1px);height: 1px;margin: -1px;overflow: hidden;padding: 0;position: absolute;width: 1px;}#sk-container-id-4 div.sk-estimator {font-family: monospace;background-color: #f0f8ff;border: 1px dotted black;border-radius: 0.25em;box-sizing: border-box;margin-bottom: 0.5em;}#sk-container-id-4 div.sk-estimator:hover {background-color: #d4ebff;}#sk-container-id-4 div.sk-parallel-item::after {content: \"\";width: 100%;border-bottom: 1px solid gray;flex-grow: 1;}#sk-container-id-4 div.sk-label:hover label.sk-toggleable__label {background-color: #d4ebff;}#sk-container-id-4 div.sk-serial::before {content: \"\";position: absolute;border-left: 1px solid gray;box-sizing: border-box;top: 0;bottom: 0;left: 50%;z-index: 0;}#sk-container-id-4 div.sk-serial {display: flex;flex-direction: column;align-items: center;background-color: white;padding-right: 0.2em;padding-left: 0.2em;position: relative;}#sk-container-id-4 div.sk-item {position: relative;z-index: 1;}#sk-container-id-4 div.sk-parallel {display: flex;align-items: stretch;justify-content: center;background-color: white;position: relative;}#sk-container-id-4 div.sk-item::before, #sk-container-id-4 div.sk-parallel-item::before {content: \"\";position: absolute;border-left: 1px solid gray;box-sizing: border-box;top: 0;bottom: 0;left: 50%;z-index: -1;}#sk-container-id-4 div.sk-parallel-item {display: flex;flex-direction: column;z-index: 1;position: relative;background-color: white;}#sk-container-id-4 div.sk-parallel-item:first-child::after {align-self: flex-end;width: 50%;}#sk-container-id-4 div.sk-parallel-item:last-child::after {align-self: flex-start;width: 50%;}#sk-container-id-4 div.sk-parallel-item:only-child::after {width: 0;}#sk-container-id-4 div.sk-dashed-wrapped {border: 1px dashed gray;margin: 0 0.4em 0.5em 0.4em;box-sizing: border-box;padding-bottom: 0.4em;background-color: white;}#sk-container-id-4 div.sk-label label {font-family: monospace;font-weight: bold;display: inline-block;line-height: 1.2em;}#sk-container-id-4 div.sk-label-container {text-align: center;}#sk-container-id-4 div.sk-container {/* jupyter's `normalize.less` sets `[hidden] { display: none; }` but bootstrap.min.css set `[hidden] { display: none !important; }` so we also need the `!important` here to be able to override the default hidden behavior on the sphinx rendered scikit-learn.org. See: https://github.com/scikit-learn/scikit-learn/issues/21755 */display: inline-block !important;position: relative;}#sk-container-id-4 div.sk-text-repr-fallback {display: none;}</style><div id=\"sk-container-id-4\" class=\"sk-top-container\"><div class=\"sk-text-repr-fallback\"><pre>SelectKBest(k=6)</pre><b>In a Jupyter environment, please rerun this cell to show the HTML representation or trust the notebook. <br />On GitHub, the HTML representation is unable to render, please try loading this page with nbviewer.org.</b></div><div class=\"sk-container\" hidden><div class=\"sk-item\"><div class=\"sk-estimator sk-toggleable\"><input class=\"sk-toggleable__control sk-hidden--visually\" id=\"sk-estimator-id-6\" type=\"checkbox\" checked><label for=\"sk-estimator-id-6\" class=\"sk-toggleable__label sk-toggleable__label-arrow\">SelectKBest</label><div class=\"sk-toggleable__content\"><pre>SelectKBest(k=6)</pre></div></div></div></div></div>"
      ],
      "text/plain": [
       "SelectKBest(k=6)"
      ]
     },
     "execution_count": null,
     "metadata": {},
     "output_type": "execute_result"
    }
   ],
   "source": [
    "# Perform feature selection\n",
    "selector = SelectKBest(k=6)\n",
    "selector.fit(x_train_norm, y_train)"
   ]
  },
  {
   "cell_type": "code",
   "execution_count": null,
   "id": "bd2cfbfd",
   "metadata": {},
   "outputs": [
    {
     "data": {
      "text/plain": [
       "Index(['metric3', 'metric4', 'metric5', 'metric6', 'metric7', 'metric8'], dtype='object')"
      ]
     },
     "execution_count": null,
     "metadata": {},
     "output_type": "execute_result"
    }
   ],
   "source": [
    "# Get the selected features\n",
    "selected_features = x_train.columns[selector.get_support()]\n",
    "selected_features"
   ]
  },
  {
   "cell_type": "code",
   "execution_count": null,
   "id": "dc26fb51",
   "metadata": {},
   "outputs": [
    {
     "data": {
      "text/html": [
       "<style>#sk-container-id-5 {color: black;background-color: white;}#sk-container-id-5 pre{padding: 0;}#sk-container-id-5 div.sk-toggleable {background-color: white;}#sk-container-id-5 label.sk-toggleable__label {cursor: pointer;display: block;width: 100%;margin-bottom: 0;padding: 0.3em;box-sizing: border-box;text-align: center;}#sk-container-id-5 label.sk-toggleable__label-arrow:before {content: \"▸\";float: left;margin-right: 0.25em;color: #696969;}#sk-container-id-5 label.sk-toggleable__label-arrow:hover:before {color: black;}#sk-container-id-5 div.sk-estimator:hover label.sk-toggleable__label-arrow:before {color: black;}#sk-container-id-5 div.sk-toggleable__content {max-height: 0;max-width: 0;overflow: hidden;text-align: left;background-color: #f0f8ff;}#sk-container-id-5 div.sk-toggleable__content pre {margin: 0.2em;color: black;border-radius: 0.25em;background-color: #f0f8ff;}#sk-container-id-5 input.sk-toggleable__control:checked~div.sk-toggleable__content {max-height: 200px;max-width: 100%;overflow: auto;}#sk-container-id-5 input.sk-toggleable__control:checked~label.sk-toggleable__label-arrow:before {content: \"▾\";}#sk-container-id-5 div.sk-estimator input.sk-toggleable__control:checked~label.sk-toggleable__label {background-color: #d4ebff;}#sk-container-id-5 div.sk-label input.sk-toggleable__control:checked~label.sk-toggleable__label {background-color: #d4ebff;}#sk-container-id-5 input.sk-hidden--visually {border: 0;clip: rect(1px 1px 1px 1px);clip: rect(1px, 1px, 1px, 1px);height: 1px;margin: -1px;overflow: hidden;padding: 0;position: absolute;width: 1px;}#sk-container-id-5 div.sk-estimator {font-family: monospace;background-color: #f0f8ff;border: 1px dotted black;border-radius: 0.25em;box-sizing: border-box;margin-bottom: 0.5em;}#sk-container-id-5 div.sk-estimator:hover {background-color: #d4ebff;}#sk-container-id-5 div.sk-parallel-item::after {content: \"\";width: 100%;border-bottom: 1px solid gray;flex-grow: 1;}#sk-container-id-5 div.sk-label:hover label.sk-toggleable__label {background-color: #d4ebff;}#sk-container-id-5 div.sk-serial::before {content: \"\";position: absolute;border-left: 1px solid gray;box-sizing: border-box;top: 0;bottom: 0;left: 50%;z-index: 0;}#sk-container-id-5 div.sk-serial {display: flex;flex-direction: column;align-items: center;background-color: white;padding-right: 0.2em;padding-left: 0.2em;position: relative;}#sk-container-id-5 div.sk-item {position: relative;z-index: 1;}#sk-container-id-5 div.sk-parallel {display: flex;align-items: stretch;justify-content: center;background-color: white;position: relative;}#sk-container-id-5 div.sk-item::before, #sk-container-id-5 div.sk-parallel-item::before {content: \"\";position: absolute;border-left: 1px solid gray;box-sizing: border-box;top: 0;bottom: 0;left: 50%;z-index: -1;}#sk-container-id-5 div.sk-parallel-item {display: flex;flex-direction: column;z-index: 1;position: relative;background-color: white;}#sk-container-id-5 div.sk-parallel-item:first-child::after {align-self: flex-end;width: 50%;}#sk-container-id-5 div.sk-parallel-item:last-child::after {align-self: flex-start;width: 50%;}#sk-container-id-5 div.sk-parallel-item:only-child::after {width: 0;}#sk-container-id-5 div.sk-dashed-wrapped {border: 1px dashed gray;margin: 0 0.4em 0.5em 0.4em;box-sizing: border-box;padding-bottom: 0.4em;background-color: white;}#sk-container-id-5 div.sk-label label {font-family: monospace;font-weight: bold;display: inline-block;line-height: 1.2em;}#sk-container-id-5 div.sk-label-container {text-align: center;}#sk-container-id-5 div.sk-container {/* jupyter's `normalize.less` sets `[hidden] { display: none; }` but bootstrap.min.css set `[hidden] { display: none !important; }` so we also need the `!important` here to be able to override the default hidden behavior on the sphinx rendered scikit-learn.org. See: https://github.com/scikit-learn/scikit-learn/issues/21755 */display: inline-block !important;position: relative;}#sk-container-id-5 div.sk-text-repr-fallback {display: none;}</style><div id=\"sk-container-id-5\" class=\"sk-top-container\"><div class=\"sk-text-repr-fallback\"><pre>CoxPHSurvivalAnalysis(alpha=0.05)</pre><b>In a Jupyter environment, please rerun this cell to show the HTML representation or trust the notebook. <br />On GitHub, the HTML representation is unable to render, please try loading this page with nbviewer.org.</b></div><div class=\"sk-container\" hidden><div class=\"sk-item\"><div class=\"sk-estimator sk-toggleable\"><input class=\"sk-toggleable__control sk-hidden--visually\" id=\"sk-estimator-id-7\" type=\"checkbox\" checked><label for=\"sk-estimator-id-7\" class=\"sk-toggleable__label sk-toggleable__label-arrow\">CoxPHSurvivalAnalysis</label><div class=\"sk-toggleable__content\"><pre>CoxPHSurvivalAnalysis(alpha=0.05)</pre></div></div></div></div></div>"
      ],
      "text/plain": [
       "CoxPHSurvivalAnalysis(alpha=0.05)"
      ]
     },
     "execution_count": null,
     "metadata": {},
     "output_type": "execute_result"
    }
   ],
   "source": [
    "# Train the Cox PH survival model\n",
    "estimator = CoxPHSurvivalAnalysis(alpha=0.05)\n",
    "estimator.fit(x_train_norm, y_train)"
   ]
  },
  {
   "cell_type": "code",
   "execution_count": null,
   "id": "ea85752c",
   "metadata": {},
   "outputs": [
    {
     "data": {
      "text/plain": [
       "'\\n# initialize the SHAP explainer for the Cox model\\nexplainer = shap.Explainer(estimator, x_train)\\n\\n# generate SHAP values for the testing data\\nshap_values = explainer(x_test)\\n\\n# summarize the feature importance across all samples\\nshap.summary_plot(shap_values, x_test)\\n'"
      ]
     },
     "execution_count": null,
     "metadata": {},
     "output_type": "execute_result"
    }
   ],
   "source": [
    "# I need a older version of numpy to work with < 1.20 \n",
    "\"\"\"\n",
    "# initialize the SHAP explainer for the Cox model\n",
    "explainer = shap.Explainer(estimator, x_train)\n",
    "\n",
    "# generate SHAP values for the testing data\n",
    "shap_values = explainer(x_test)\n",
    "\n",
    "# summarize the feature importance across all samples\n",
    "shap.summary_plot(shap_values, x_test)\n",
    "\"\"\""
   ]
  },
  {
   "cell_type": "code",
   "execution_count": null,
   "id": "521713b6",
   "metadata": {},
   "outputs": [
    {
     "name": "stdout",
     "output_type": "stream",
     "text": [
      "C-index: (0.7244582043343654, 234, 89, 0, 0)\n"
     ]
    }
   ],
   "source": [
    "# Predict the probability of failure in the next n days for each machine in the testing set\n",
    "y_pred = estimator.predict(x_test_norm)\n",
    "\n",
    "# Evaluate the performance of the model\n",
    "c_index = concordance_index_censored(y_test['failure'], y_test['SurvivalTime'], y_pred)\n",
    "print(f\"C-index: {c_index}\")"
   ]
  },
  {
   "cell_type": "markdown",
   "id": "7ee34054",
   "metadata": {},
   "source": [
    "c- index is 0.7 indicate good performance of the survival model"
   ]
  },
  {
   "cell_type": "code",
   "execution_count": null,
   "id": "cb2f0343",
   "metadata": {},
   "outputs": [],
   "source": [
    "# Predict the survival functions for the testing set\n",
    "survival_functions = estimator.predict_survival_function(x_test_norm)"
   ]
  },
  {
   "cell_type": "code",
   "execution_count": null,
   "id": "50a9ee11",
   "metadata": {},
   "outputs": [
    {
     "name": "stdout",
     "output_type": "stream",
     "text": [
      "28\n"
     ]
    }
   ],
   "source": [
    "print(len(survival_functions))"
   ]
  },
  {
   "cell_type": "code",
   "execution_count": null,
   "id": "182a63e7",
   "metadata": {},
   "outputs": [],
   "source": [
    "#print(survival_functions[0])"
   ]
  },
  {
   "cell_type": "code",
   "execution_count": null,
   "id": "e192987f",
   "metadata": {},
   "outputs": [
    {
     "name": "stdout",
     "output_type": "stream",
     "text": [
      "----Device-0 : 60.24-----\n",
      "----Device-1 : 58.94-----\n",
      "Device-2 : 0.00\n",
      "Device-3 : 30.58\n",
      "Device-4 : 0.00\n",
      "Device-5 : 0.00\n",
      "Device-6 : 0.01\n",
      "Device-7 : 44.11\n",
      "Device-8 : 36.54\n",
      "----Device-9 : 76.97-----\n",
      "----Device-10 : 87.75-----\n",
      "Device-11 : 40.30\n",
      "Device-12 : 26.68\n",
      "Device-13 : 0.00\n",
      "Device-14 : 31.15\n",
      "----Device-15 : 51.14-----\n",
      "----Device-16 : 62.40-----\n",
      "----Device-17 : 93.28-----\n",
      "Device-18 : 25.45\n",
      "Device-19 : 0.00\n",
      "Device-20 : 0.00\n",
      "Device-21 : 37.59\n",
      "Device-22 : 0.00\n",
      "Device-23 : 40.37\n",
      "Device-24 : 28.94\n",
      "Device-25 : 41.13\n",
      "Device-26 : 32.96\n",
      "Device-27 : 39.22\n"
     ]
    }
   ],
   "source": [
    "# Get the probability of failure in the next n days\n",
    "n_days = 100 \n",
    "failure_prob = []\n",
    "\n",
    "for sf in survival_functions:\n",
    "    t_idx = np.argmin(np.abs(sf.x - n_days))\n",
    "    failure_prob.append(1 - sf.y[t_idx])\n",
    "    \n",
    "failure_prob = np.array(failure_prob)\n",
    "\n",
    "# Print the probability of failure for each device in the testing set\n",
    "for i, prob in enumerate(failure_prob):\n",
    "    if prob>0.5:\n",
    "        print(f\"----Device-{i} : {prob*100:.2f}-----\")\n",
    "    else:\n",
    "        print(f\"Device-{i} : {prob*100:.2f}\")  "
   ]
  },
  {
   "cell_type": "markdown",
   "id": "f185d6ab",
   "metadata": {},
   "source": [
    "Calculate the probability of failure in the next n days using the predicted hazard ratios and the survival function"
   ]
  },
  {
   "cell_type": "markdown",
   "id": "e1ff8fe5",
   "metadata": {},
   "source": [
    "# using kaplan-Meier survival function from lifelines"
   ]
  },
  {
   "cell_type": "code",
   "execution_count": null,
   "id": "3e49a17f",
   "metadata": {},
   "outputs": [],
   "source": [
    "#| import\n",
    "from lifelines import KaplanMeierFitter\n",
    "from lifelines.utils import median_survival_times"
   ]
  },
  {
   "cell_type": "code",
   "execution_count": null,
   "id": "9a839bec",
   "metadata": {},
   "outputs": [
    {
     "data": {
      "text/plain": [
       "'\\n# Prepare the data for Kaplan-Meier model\\n\\ntrain_frac = 0.7\\ntrain_size = int(train_frac * len(machineData))\\ntrain_data = machineData[:train_size]\\ntest_data = machineData[train_size:]\\n\\n\\nkmf = KaplanMeierFitter()\\nkmf.fit(train_data[\\'SurvivalTime\\'],train_data[\\'failure\\'])\\n\\nn_days = 100\\n\\n# Predict the survival function using Kaplan-Meier model\\nsf = kmf.survival_function_at_times(np.array([n_days / 365.25]))\\n\\n# Get the probability of failure in next n days for each device\\nprob_failure = []\\nfor i, row in test_data.iterrows():\\n    if row[\\'SurvivalTime\\'] <= n_days:\\n        prob_failure.append(1.0)\\n    else:\\n        median_time = median_survival_times(kmf.predict(row[\\'SurvivalTime\\']))\\n        prob_failure.append(1 - sf[median_time])\\n\\n# Compute the concordance index to evaluate the model performance\\nc_index = concordance_index_censored(test_data[\\'failure\\'], test_data[\\'SurvivalTime\\'], prob_failure)\\nprint(\"Concordance index:\", c_index)\\n\\ntime_points = [1, 2, 3]  # n = 1 year, 2 years, 3 years\\nsf = kaplan_meier_estimator(y_test[\"failure\"], y_pred, y_test[\"SurvivalTime\"])\\n\\nprob_fail = 1 - sf[0](time_points)\\n'"
      ]
     },
     "execution_count": null,
     "metadata": {},
     "output_type": "execute_result"
    }
   ],
   "source": [
    "\"\"\"\n",
    "# Prepare the data for Kaplan-Meier model\n",
    "\n",
    "train_frac = 0.7\n",
    "train_size = int(train_frac * len(machineData))\n",
    "train_data = machineData[:train_size]\n",
    "test_data = machineData[train_size:]\n",
    "\n",
    "\n",
    "kmf = KaplanMeierFitter()\n",
    "kmf.fit(train_data['SurvivalTime'],train_data['failure'])\n",
    "\n",
    "n_days = 100\n",
    "\n",
    "# Predict the survival function using Kaplan-Meier model\n",
    "sf = kmf.survival_function_at_times(np.array([n_days / 365.25]))\n",
    "\n",
    "# Get the probability of failure in next n days for each device\n",
    "prob_failure = []\n",
    "for i, row in test_data.iterrows():\n",
    "    if row['SurvivalTime'] <= n_days:\n",
    "        prob_failure.append(1.0)\n",
    "    else:\n",
    "        median_time = median_survival_times(kmf.predict(row['SurvivalTime']))\n",
    "        prob_failure.append(1 - sf[median_time])\n",
    "\n",
    "# Compute the concordance index to evaluate the model performance\n",
    "c_index = concordance_index_censored(test_data['failure'], test_data['SurvivalTime'], prob_failure)\n",
    "print(\"Concordance index:\", c_index)\n",
    "\n",
    "time_points = [1, 2, 3]  # n = 1 year, 2 years, 3 years\n",
    "sf = kaplan_meier_estimator(y_test[\"failure\"], y_pred, y_test[\"SurvivalTime\"])\n",
    "\n",
    "prob_fail = 1 - sf[0](time_points)\n",
    "\"\"\""
   ]
  },
  {
   "cell_type": "code",
   "execution_count": null,
   "id": "97cbcc1a",
   "metadata": {},
   "outputs": [],
   "source": [
    "#| hide\n",
    "import nbdev; nbdev.nbdev_export()"
   ]
  },
  {
   "cell_type": "code",
   "execution_count": null,
   "id": "b60475cf",
   "metadata": {},
   "outputs": [],
   "source": []
  },
  {
   "cell_type": "code",
   "execution_count": null,
   "id": "beca9b4f",
   "metadata": {},
   "outputs": [],
   "source": []
  }
 ],
 "metadata": {
  "kernelspec": {
   "display_name": "python3",
   "language": "python",
   "name": "python3"
  }
 },
 "nbformat": 4,
 "nbformat_minor": 5
}
