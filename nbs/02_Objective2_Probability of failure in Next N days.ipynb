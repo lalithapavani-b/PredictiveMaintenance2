{
 "cells": [
  {
   "cell_type": "code",
   "execution_count": null,
   "metadata": {},
   "outputs": [],
   "source": [
    "#| hide\n",
    "%load_ext autoreload\n",
    "%autoreload 2"
   ]
  },
  {
   "cell_type": "code",
   "execution_count": null,
   "metadata": {},
   "outputs": [],
   "source": [
    "#| default_exp utils"
   ]
  },
  {
   "cell_type": "markdown",
   "metadata": {},
   "source": [
    "# Objective 2 : Predict Probability of Failure in Next N days\n"
   ]
  },
  {
   "cell_type": "markdown",
   "metadata": {},
   "source": [
    "Predictive Maintenance (PdM) is a great application of Survival Analysis since it consists in predicting when equipment failure will occur and therefore alerting the maintenance team to prevent that failure."
   ]
  },
  {
   "cell_type": "markdown",
   "metadata": {},
   "source": [
    "### ` Objectives`\n",
    "> - To Predict Probability of Failure in Next N days"
   ]
  },
  {
   "cell_type": "code",
   "execution_count": null,
   "metadata": {},
   "outputs": [],
   "source": [
    "#| hide\n",
    "from nbdev.showdoc import *"
   ]
  },
  {
   "cell_type": "code",
   "execution_count": null,
   "metadata": {},
   "outputs": [
    {
     "name": "stderr",
     "output_type": "stream",
     "text": [
      "F:\\Lalitha\\anaconda3\\envs\\Predictive-Maintenance\\lib\\site-packages\\tqdm\\auto.py:21: TqdmWarning: IProgress not found. Please update jupyter and ipywidgets. See https://ipywidgets.readthedocs.io/en/stable/user_install.html\n",
      "  from .autonotebook import tqdm as notebook_tqdm\n"
     ]
    }
   ],
   "source": [
    "#| export\n",
    "import pandas as pd\n",
    "import numpy as np\n",
    "import matplotlib.pyplot as plt\n",
    "import seaborn as sns\n",
    "\n",
    "import shap\n",
    "from boruta import BorutaPy\n",
    "\n",
    "from sklearn.feature_selection import SelectFromModel\n",
    "from sklearn.model_selection import train_test_split\n",
    "\n",
    "from sklearn.preprocessing import QuantileTransformer\n",
    "from sksurv.linear_model import CoxPHSurvivalAnalysis\n",
    "from sksurv.metrics import concordance_index_censored\n",
    "from sksurv.svm import FastSurvivalSVM\n",
    "\n",
    "from PredictiveMaintenance2 import Datasets,Visualize,FeatureEng,Model"
   ]
  },
  {
   "cell_type": "markdown",
   "metadata": {},
   "source": [
    "# Feature selection"
   ]
  },
  {
   "cell_type": "markdown",
   "metadata": {},
   "source": [
    "### load dataset"
   ]
  },
  {
   "cell_type": "code",
   "execution_count": null,
   "metadata": {},
   "outputs": [
    {
     "data": {
      "text/html": [
       "<div>\n",
       "<style scoped>\n",
       "    .dataframe tbody tr th:only-of-type {\n",
       "        vertical-align: middle;\n",
       "    }\n",
       "\n",
       "    .dataframe tbody tr th {\n",
       "        vertical-align: top;\n",
       "    }\n",
       "\n",
       "    .dataframe thead th {\n",
       "        text-align: right;\n",
       "    }\n",
       "</style>\n",
       "<table border=\"1\" class=\"dataframe\">\n",
       "  <thead>\n",
       "    <tr style=\"text-align: right;\">\n",
       "      <th></th>\n",
       "      <th>date</th>\n",
       "      <th>device</th>\n",
       "      <th>failure</th>\n",
       "      <th>metric1</th>\n",
       "      <th>metric2</th>\n",
       "      <th>metric3</th>\n",
       "      <th>metric4</th>\n",
       "      <th>metric5</th>\n",
       "      <th>metric6</th>\n",
       "      <th>metric7</th>\n",
       "      <th>metric8</th>\n",
       "      <th>metric9</th>\n",
       "      <th>RUL</th>\n",
       "      <th>SurvivalTime</th>\n",
       "    </tr>\n",
       "  </thead>\n",
       "  <tbody>\n",
       "    <tr>\n",
       "      <th>0</th>\n",
       "      <td>2015-01-01</td>\n",
       "      <td>0</td>\n",
       "      <td>0</td>\n",
       "      <td>141503600</td>\n",
       "      <td>0</td>\n",
       "      <td>0</td>\n",
       "      <td>1</td>\n",
       "      <td>19</td>\n",
       "      <td>494462</td>\n",
       "      <td>16</td>\n",
       "      <td>16</td>\n",
       "      <td>3</td>\n",
       "      <td>18</td>\n",
       "      <td>1</td>\n",
       "    </tr>\n",
       "    <tr>\n",
       "      <th>1</th>\n",
       "      <td>2015-01-01</td>\n",
       "      <td>1</td>\n",
       "      <td>0</td>\n",
       "      <td>55587136</td>\n",
       "      <td>0</td>\n",
       "      <td>0</td>\n",
       "      <td>0</td>\n",
       "      <td>7</td>\n",
       "      <td>199132</td>\n",
       "      <td>0</td>\n",
       "      <td>0</td>\n",
       "      <td>0</td>\n",
       "      <td>214</td>\n",
       "      <td>1</td>\n",
       "    </tr>\n",
       "  </tbody>\n",
       "</table>\n",
       "</div>"
      ],
      "text/plain": [
       "         date  device  failure    metric1  metric2  metric3  metric4  metric5   \n",
       "0  2015-01-01       0        0  141503600        0        0        1       19  \\\n",
       "1  2015-01-01       1        0   55587136        0        0        0        7   \n",
       "\n",
       "   metric6  metric7  metric8  metric9  RUL  SurvivalTime  \n",
       "0   494462       16       16        3   18             1  \n",
       "1   199132        0        0        0  214             1  "
      ]
     },
     "execution_count": null,
     "metadata": {},
     "output_type": "execute_result"
    }
   ],
   "source": [
    "# load pre processed dataset\n",
    "machineData = pd.read_csv('Machine_Data_Preprocessed.csv')\n",
    "machineData.head(2)"
   ]
  },
  {
   "cell_type": "code",
   "execution_count": null,
   "metadata": {},
   "outputs": [],
   "source": [
    "# sort values by device and date\n",
    "machineData = machineData.sort_values(['device','date'],ascending= True).reset_index(drop=True)\n",
    "\n",
    "# get last record of each device\n",
    "machineData['date'] = pd.to_datetime(machineData['date'])\n",
    "last_date = machineData.groupby('device')['date'].transform(max) == machineData['date']"
   ]
  },
  {
   "cell_type": "code",
   "execution_count": null,
   "metadata": {},
   "outputs": [
    {
     "name": "stdout",
     "output_type": "stream",
     "text": [
      "        date  device  failure    metric1  metric2  metric3  metric4  metric5   \n",
      "0 2015-01-19       0        1   64499464        0        0        1       19  \\\n",
      "1 2015-08-03       1        1  110199904      240        0        0        8   \n",
      "\n",
      "   metric6  metric7  metric8  metric9  RUL  SurvivalTime  \n",
      "0   514661       16       16        3    0            19  \n",
      "1   294852        0        0        0    0           215  \n"
     ]
    }
   ],
   "source": [
    "# Filter the data to keep only the rows with the maximum observation date for each device\n",
    "machineData = machineData[last_date].reset_index(drop=True)\n",
    "\n",
    "# Print the final output\n",
    "print(machineData.head(2))"
   ]
  },
  {
   "cell_type": "markdown",
   "metadata": {},
   "source": [
    "### split the data"
   ]
  },
  {
   "cell_type": "code",
   "execution_count": null,
   "metadata": {},
   "outputs": [],
   "source": [
    "x = machineData.drop(['date','failure','RUL','SurvivalTime'],axis=1)\n",
    "\n",
    "# Create a structured array for the survival analysis\n",
    "y = np.zeros(len(machineData), dtype=[('failure', 'bool'), ('SurvivalTime', 'float')])\n",
    "y['failure'] = machineData['failure'].astype(bool)\n",
    "y['SurvivalTime'] = machineData['SurvivalTime'].astype(float)\n"
   ]
  },
  {
   "cell_type": "code",
   "execution_count": null,
   "metadata": {},
   "outputs": [],
   "source": [
    "# Split the data into training and testing sets\n",
    "x_train, x_test, y_train, y_test = train_test_split(x,y,test_size=0.15,random_state=42)"
   ]
  },
  {
   "cell_type": "code",
   "execution_count": null,
   "metadata": {},
   "outputs": [
    {
     "name": "stderr",
     "output_type": "stream",
     "text": [
      "n_quantiles (1000) is greater than the total number of samples (116). n_quantiles is set to n_samples.\n"
     ]
    }
   ],
   "source": [
    "# Normalize the data using quantile normalization\n",
    "qn = QuantileTransformer(output_distribution='normal', random_state=42)\n",
    "x_train_norm = qn.fit_transform(x_train)\n",
    "x_test_norm = qn.transform(x_test)"
   ]
  },
  {
   "cell_type": "markdown",
   "metadata": {},
   "source": [
    "### SelectFromModel"
   ]
  },
  {
   "cell_type": "markdown",
   "metadata": {},
   "source": [
    "# Modeling - CoxPH Survival Model"
   ]
  },
  {
   "cell_type": "code",
   "execution_count": null,
   "metadata": {},
   "outputs": [
    {
     "data": {
      "text/html": [
       "<style>#sk-container-id-4 {color: black;background-color: white;}#sk-container-id-4 pre{padding: 0;}#sk-container-id-4 div.sk-toggleable {background-color: white;}#sk-container-id-4 label.sk-toggleable__label {cursor: pointer;display: block;width: 100%;margin-bottom: 0;padding: 0.3em;box-sizing: border-box;text-align: center;}#sk-container-id-4 label.sk-toggleable__label-arrow:before {content: \"▸\";float: left;margin-right: 0.25em;color: #696969;}#sk-container-id-4 label.sk-toggleable__label-arrow:hover:before {color: black;}#sk-container-id-4 div.sk-estimator:hover label.sk-toggleable__label-arrow:before {color: black;}#sk-container-id-4 div.sk-toggleable__content {max-height: 0;max-width: 0;overflow: hidden;text-align: left;background-color: #f0f8ff;}#sk-container-id-4 div.sk-toggleable__content pre {margin: 0.2em;color: black;border-radius: 0.25em;background-color: #f0f8ff;}#sk-container-id-4 input.sk-toggleable__control:checked~div.sk-toggleable__content {max-height: 200px;max-width: 100%;overflow: auto;}#sk-container-id-4 input.sk-toggleable__control:checked~label.sk-toggleable__label-arrow:before {content: \"▾\";}#sk-container-id-4 div.sk-estimator input.sk-toggleable__control:checked~label.sk-toggleable__label {background-color: #d4ebff;}#sk-container-id-4 div.sk-label input.sk-toggleable__control:checked~label.sk-toggleable__label {background-color: #d4ebff;}#sk-container-id-4 input.sk-hidden--visually {border: 0;clip: rect(1px 1px 1px 1px);clip: rect(1px, 1px, 1px, 1px);height: 1px;margin: -1px;overflow: hidden;padding: 0;position: absolute;width: 1px;}#sk-container-id-4 div.sk-estimator {font-family: monospace;background-color: #f0f8ff;border: 1px dotted black;border-radius: 0.25em;box-sizing: border-box;margin-bottom: 0.5em;}#sk-container-id-4 div.sk-estimator:hover {background-color: #d4ebff;}#sk-container-id-4 div.sk-parallel-item::after {content: \"\";width: 100%;border-bottom: 1px solid gray;flex-grow: 1;}#sk-container-id-4 div.sk-label:hover label.sk-toggleable__label {background-color: #d4ebff;}#sk-container-id-4 div.sk-serial::before {content: \"\";position: absolute;border-left: 1px solid gray;box-sizing: border-box;top: 0;bottom: 0;left: 50%;z-index: 0;}#sk-container-id-4 div.sk-serial {display: flex;flex-direction: column;align-items: center;background-color: white;padding-right: 0.2em;padding-left: 0.2em;position: relative;}#sk-container-id-4 div.sk-item {position: relative;z-index: 1;}#sk-container-id-4 div.sk-parallel {display: flex;align-items: stretch;justify-content: center;background-color: white;position: relative;}#sk-container-id-4 div.sk-item::before, #sk-container-id-4 div.sk-parallel-item::before {content: \"\";position: absolute;border-left: 1px solid gray;box-sizing: border-box;top: 0;bottom: 0;left: 50%;z-index: -1;}#sk-container-id-4 div.sk-parallel-item {display: flex;flex-direction: column;z-index: 1;position: relative;background-color: white;}#sk-container-id-4 div.sk-parallel-item:first-child::after {align-self: flex-end;width: 50%;}#sk-container-id-4 div.sk-parallel-item:last-child::after {align-self: flex-start;width: 50%;}#sk-container-id-4 div.sk-parallel-item:only-child::after {width: 0;}#sk-container-id-4 div.sk-dashed-wrapped {border: 1px dashed gray;margin: 0 0.4em 0.5em 0.4em;box-sizing: border-box;padding-bottom: 0.4em;background-color: white;}#sk-container-id-4 div.sk-label label {font-family: monospace;font-weight: bold;display: inline-block;line-height: 1.2em;}#sk-container-id-4 div.sk-label-container {text-align: center;}#sk-container-id-4 div.sk-container {/* jupyter's `normalize.less` sets `[hidden] { display: none; }` but bootstrap.min.css set `[hidden] { display: none !important; }` so we also need the `!important` here to be able to override the default hidden behavior on the sphinx rendered scikit-learn.org. See: https://github.com/scikit-learn/scikit-learn/issues/21755 */display: inline-block !important;position: relative;}#sk-container-id-4 div.sk-text-repr-fallback {display: none;}</style><div id=\"sk-container-id-4\" class=\"sk-top-container\"><div class=\"sk-text-repr-fallback\"><pre>CoxPHSurvivalAnalysis(alpha=0.05)</pre><b>In a Jupyter environment, please rerun this cell to show the HTML representation or trust the notebook. <br />On GitHub, the HTML representation is unable to render, please try loading this page with nbviewer.org.</b></div><div class=\"sk-container\" hidden><div class=\"sk-item\"><div class=\"sk-estimator sk-toggleable\"><input class=\"sk-toggleable__control sk-hidden--visually\" id=\"sk-estimator-id-4\" type=\"checkbox\" checked><label for=\"sk-estimator-id-4\" class=\"sk-toggleable__label sk-toggleable__label-arrow\">CoxPHSurvivalAnalysis</label><div class=\"sk-toggleable__content\"><pre>CoxPHSurvivalAnalysis(alpha=0.05)</pre></div></div></div></div></div>"
      ],
      "text/plain": [
       "CoxPHSurvivalAnalysis(alpha=0.05)"
      ]
     },
     "execution_count": null,
     "metadata": {},
     "output_type": "execute_result"
    }
   ],
   "source": [
    "# Create a instance Cox PH survival model\n",
    "estimator = CoxPHSurvivalAnalysis(alpha=0.05)\n",
    "\n",
    "# Fit the model to the training data\n",
    "estimator.fit(x_train_norm, y_train)"
   ]
  },
  {
   "cell_type": "markdown",
   "metadata": {},
   "source": [
    "# Predictions\n"
   ]
  },
  {
   "cell_type": "code",
   "execution_count": null,
   "metadata": {},
   "outputs": [],
   "source": [
    "# Predict the probability of failure in the next n days for each machine in the testing set\n",
    "y_pred = estimator.predict(x_test_norm)"
   ]
  },
  {
   "cell_type": "code",
   "execution_count": null,
   "metadata": {},
   "outputs": [],
   "source": [
    "# Predict the survival functions for the testing set\n",
    "survival_functions = estimator.predict_survival_function(x_test_norm)"
   ]
  },
  {
   "cell_type": "code",
   "execution_count": null,
   "metadata": {},
   "outputs": [
    {
     "name": "stdout",
     "output_type": "stream",
     "text": [
      "21\n"
     ]
    }
   ],
   "source": [
    "print(len(survival_functions))"
   ]
  },
  {
   "cell_type": "markdown",
   "metadata": {},
   "source": [
    "Calculate the probability of failure in the next n days using the predicted hazard ratios and the survival function"
   ]
  },
  {
   "cell_type": "code",
   "execution_count": null,
   "metadata": {},
   "outputs": [
    {
     "name": "stdout",
     "output_type": "stream",
     "text": [
      "Device-0 : 19.05\n",
      "Device-1 : 31.42\n",
      "Device-2 : 2.98\n",
      "Device-3 : 4.25\n",
      "Device-4 : 17.55\n",
      "Device-5 : 3.52\n",
      "Device-6 : 13.92\n",
      "Device-7 : 7.97\n",
      "Device-8 : 39.02\n",
      "Device-9 : 18.59\n",
      "----Device-10 : 53.53-----\n",
      "Device-11 : 5.26\n",
      "Device-12 : 8.73\n",
      "Device-13 : 5.06\n",
      "Device-14 : 4.01\n",
      "Device-15 : 9.44\n",
      "Device-16 : 18.29\n",
      "Device-17 : 44.52\n",
      "Device-18 : 8.25\n",
      "Device-19 : 5.32\n",
      "Device-20 : 7.35\n"
     ]
    }
   ],
   "source": [
    "# Get the probability of failure in the next n days\n",
    "n_days = 20 \n",
    "failure_prob = []\n",
    "\n",
    "for sf in survival_functions:\n",
    "    t_idx = np.argmin(np.abs(sf.x - n_days))\n",
    "    failure_prob.append(1 - sf.y[t_idx])\n",
    "    \n",
    "failure_prob = np.array(failure_prob)\n",
    "\n",
    "# Print the prObability of failure for each device in the testing set\n",
    "for i, prob in enumerate(failure_prob):\n",
    "    if prob>0.5:\n",
    "        print(f\"----Device-{i} : {prob*100:.2f}-----\")\n",
    "    else:\n",
    "        print(f\"Device-{i} : {prob*100:.2f}\") "
   ]
  },
  {
   "cell_type": "markdown",
   "metadata": {},
   "source": [
    "# Validations"
   ]
  },
  {
   "cell_type": "code",
   "execution_count": null,
   "metadata": {},
   "outputs": [
    {
     "name": "stdout",
     "output_type": "stream",
     "text": [
      "C-index: (0.5738636363636364, 101, 75, 0, 0)\n"
     ]
    }
   ],
   "source": [
    "# Evaluate the performance of the model on \n",
    "c_index = concordance_index_censored(y_test['failure'], y_test['SurvivalTime'], y_pred)\n",
    "print(f\"C-index: {c_index}\")"
   ]
  },
  {
   "cell_type": "markdown",
   "metadata": {},
   "source": [
    "# Modeling - kaplan-Meier survival function from lifelines"
   ]
  },
  {
   "cell_type": "code",
   "execution_count": null,
   "metadata": {},
   "outputs": [],
   "source": [
    "#| hide\n",
    "\"\"\"\n",
    "from lifelines import KaplanMeierFitter\n",
    "from lifelines.utils import median_survival_times\n",
    "\n",
    "# Prepare the data for Kaplan-Meier model\n",
    "train_frac = 0.7\n",
    "train_size = int(train_frac * len(machineData))\n",
    "train_data = machineData[:train_size]\n",
    "test_data = machineData[train_size:]\n",
    "\n",
    "kmf = KaplanMeierFitter()\n",
    "kmf.fit(train_data['SurvivalTime'],train_data['failure'])\n",
    "\n",
    "n_days = 10\n",
    "# Predict the survival function using Kaplan-Meier model\n",
    "sf = kmf.survival_function_at_times(np.array([n_days]))\n",
    "print(sf)\n",
    "\n",
    "# Get the probability of failure in next n days for each device\n",
    "prob_failure = []\n",
    "\n",
    "for i, row in test_data.iterrows():\n",
    "    if row['SurvivalTime'] <= n_days:\n",
    "        prob_failure.append(1.0)\n",
    "    else:\n",
    "        median_time = median_survival_times(kmf.predict(row['SurvivalTime']))\n",
    "        prob_failure.append(1 - sf[median_time])\n",
    "\n",
    "# Compute the concordance index to evaluate the model performance\n",
    "c_index = concordance_index_censored(test_data['failure'], test_data['SurvivalTime'], prob_failure)\n",
    "print(\"Concordance index:\", c_index)\n",
    "\n",
    "\"\"\""
   ]
  },
  {
   "cell_type": "code",
   "execution_count": null,
   "metadata": {},
   "outputs": [],
   "source": [
    "#| hide\n",
    "import nbdev; nbdev.nbdev_export()"
   ]
  },
  {
   "cell_type": "code",
   "execution_count": null,
   "metadata": {},
   "outputs": [],
   "source": []
  }
 ],
 "metadata": {
  "kernelspec": {
   "display_name": "python3",
   "language": "python",
   "name": "python3"
  }
 },
 "nbformat": 4,
 "nbformat_minor": 4
}
