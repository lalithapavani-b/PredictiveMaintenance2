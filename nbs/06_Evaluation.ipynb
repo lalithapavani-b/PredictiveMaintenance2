{
 "cells": [
  {
   "cell_type": "code",
   "execution_count": null,
   "id": "d6aa4707",
   "metadata": {},
   "outputs": [],
   "source": []
  }
 ],
 "metadata": {
  "kernelspec": {
   "display_name": "python3",
   "language": "python",
   "name": "python3"
  }
 },
 "nbformat": 4,
 "nbformat_minor": 5
}
