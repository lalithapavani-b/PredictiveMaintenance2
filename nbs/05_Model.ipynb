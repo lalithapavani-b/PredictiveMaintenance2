{
 "cells": [
  {
   "cell_type": "code",
   "execution_count": null,
   "id": "94666307",
   "metadata": {},
   "outputs": [],
   "source": [
    "%load_ext autoreload\n",
    "%autoreload 2"
   ]
  },
  {
   "cell_type": "code",
   "execution_count": null,
   "id": "628fd945",
   "metadata": {},
   "outputs": [],
   "source": [
    "#| default_exp Model"
   ]
  },
  {
   "cell_type": "markdown",
   "id": "7acbdd1e",
   "metadata": {},
   "source": [
    "# Model\n",
    "\n",
    ">This module in PredictiveMaintenance2 package defines functions used to train,test and validate predictive maintenance models"
   ]
  },
  {
   "cell_type": "markdown",
   "id": "19689347",
   "metadata": {},
   "source": [
    "\n",
    "\"\"\"\n",
    "Because we are dealing with cross-sectional time-series, it is better not to take a random sample of all records. Doing so would put the records from one machine in all three sample data sets. To avoid this, we’ll randomly select IDs and place all of the records for each machine in either the training, testing, or validation data set.\n",
    "\"\"\""
   ]
  },
  {
   "cell_type": "code",
   "execution_count": null,
   "id": "666314d5",
   "metadata": {},
   "outputs": [],
   "source": [
    "#| export\n",
    "import numpy as np\n",
    "import pandas as pd\n",
    "\n",
    "from sklearn.model_selection import train_test_split"
   ]
  },
  {
   "cell_type": "code",
   "execution_count": null,
   "id": "070b2472",
   "metadata": {},
   "outputs": [],
   "source": [
    "#| export\n",
    "def train_test_split(dataset_df : pd.DataFrame, # Pandas DataFrame object of dataset\n",
    "                     machine_Unique_Identifer :str, # a unique ID to identify machine\n",
    "                     failure : str, # event of failute, failure = 0 means not failed yet, failure=1 means equipment is failed\n",
    "                    ):\n",
    "    try:\n",
    "        # get unique machine ID s\n",
    "        split_df = dataset_df[[machine_Unique_Identifer]]\n",
    "        \n",
    "        \n",
    "        # Create a new variable with a random number between 0 and 1\n",
    "        np.random.seed(42)\n",
    "        split_df['temp'] = (np.random.randint(0, 10000, pd_id.shape[0]))/10000\n",
    "        split_df = split_df[[machine_Unique_Identifer,'temp']]\n",
    "        \n",
    "        \n",
    "        # Give each record 30% chance of being validation, 35% chance of being in testing, \n",
    "        # and 35% chance of being in the training data set.\n",
    "        split_df['MODELING_GROUP'] = np.where(((split_df.temp <= 0.35)), 'TRAINING', np.where(((split_df.temp <= 0.65)), 'VALIDATION', 'TESTING'))\n",
    "        \n",
    "        \n",
    "        # number of machines under each category\n",
    "        machines_per_category = split_df.groupby(['MODELING_GROUP'])['temp'].count()\n",
    "        print(f\"Number of machines in each group \\n{machines_per_category}\\n\")\n",
    "        \n",
    "        #Append the Group of each id to each individual record.\n",
    "        dataset_df = dataset_df.sort_values(by=['ID'], ascending=[True])\n",
    "        split_df =split_df.sort_values(by=['ID'], ascending=[True])\n",
    "        \n",
    "        dataset_df = dataset_df.merge(split_df, on=['ID'], how='inner')\n",
    "        \n",
    "        # number of records under each category\n",
    "        records_per_category = dataset_df.groupby(['MODELING_GROUP'])['temp'].count()\n",
    "        print(f\"Number of record in each group \\n{machines_per_category}\\n\")\n",
    "        \n",
    "        \n",
    "        # number of failure targets under each category\n",
    "        failures_in_category = dataset_df.groupby(['MODELING_GROUP'])[failure].count()\n",
    "        print(f\"Number of record in each group \\n{failures_in_category}\\n\")\n",
    "        \n",
    "        # create seperate dataframes for training,testing and validation data\n",
    "        \n",
    "        \n",
    "        \n",
    "    except Exception as e:\n",
    "        print(e)\n",
    "        return None\n",
    "    \n",
    "    else:\n",
    "        pass"
   ]
  },
  {
   "cell_type": "code",
   "execution_count": null,
   "id": "4c39f116",
   "metadata": {},
   "outputs": [],
   "source": [
    "#| export\n",
    "def build_test_train(dataset_df : pd.DataFrame, # Pandas DataFrame object of dataset\n",
    "                     test_size: float # split criteria\n",
    "                    ):\n",
    "    try:\n",
    "        N =  (dataset_df.shape)[0] \n",
    "        index_train, index_test = train_test_split(range(N), test_size = test_size)\n",
    "        data_train = dataset_df.loc[index_train].reset_index( drop = True )\n",
    "        data_test  = dataset_df.loc[index_test].reset_index( drop = True )\n",
    "\n",
    "        # Creating the X, T and E inputs\n",
    "        X_train, X_test = data_train[features], data_test[features]\n",
    "        T_train, T_test = data_train[rul_time], data_test[rul_time]\n",
    "        E_train, E_test = data_train[failure_event], data_test[failure_event]\n",
    "        \n",
    "    except Exception as e:\n",
    "        print(e)\n",
    "        return None\n",
    "    \n",
    "    else:\n",
    "        # return X_train,T_train,E_train,X_test,T_test,E_test\n",
    "        return None"
   ]
  },
  {
   "cell_type": "code",
   "execution_count": null,
   "id": "2259bbf6",
   "metadata": {},
   "outputs": [],
   "source": [
    "#| hide\n",
    "import nbdev; nbdev.nbdev_export()"
   ]
  },
  {
   "cell_type": "code",
   "execution_count": null,
   "id": "6572073a",
   "metadata": {},
   "outputs": [],
   "source": []
  },
  {
   "cell_type": "code",
   "execution_count": null,
   "id": "1b9f7ce6",
   "metadata": {},
   "outputs": [],
   "source": []
  }
 ],
 "metadata": {
  "kernelspec": {
   "display_name": "python3",
   "language": "python",
   "name": "python3"
  }
 },
 "nbformat": 4,
 "nbformat_minor": 5
}
