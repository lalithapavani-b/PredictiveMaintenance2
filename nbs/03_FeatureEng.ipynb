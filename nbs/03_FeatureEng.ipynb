{
 "cells": [
  {
   "cell_type": "code",
   "execution_count": null,
   "id": "601f7658",
   "metadata": {},
   "outputs": [],
   "source": [
    "%load_ext autoreload\n",
    "%autoreload 2"
   ]
  },
  {
   "cell_type": "code",
   "execution_count": null,
   "id": "a34b2b67",
   "metadata": {},
   "outputs": [],
   "source": [
    "#|default_exp FeatureEng"
   ]
  },
  {
   "cell_type": "markdown",
   "id": "b5a72a31",
   "metadata": {},
   "source": [
    "# Feature Engineering\n",
    "\n",
    "> This module under Package PredictiveMaintenance2 defines functions for feature exploration,feature creation,feature selection,feature encoding and feature extraction.\n",
    "> feature transformation functions are imported from preprocessing module"
   ]
  },
  {
   "cell_type": "code",
   "execution_count": null,
   "id": "f3de21fe",
   "metadata": {},
   "outputs": [],
   "source": [
    "def explain_features(machine_Unique_Identifer :str, # a unique ID to identify machine\n",
    "                    machine_features: list, # a list of machine features such as vendor_name, machine_type,manufacturer ....\n",
    "                    observation_date : str, # date when observation is recorded\n",
    "                    survival_time : int, # age of equipment till observation_date\n",
    "                    failure : int, # event of failute . In most cases failure = 0 means not failed yet, failure=1 means equipment is failed\n",
    "                    sensor_values:list # measured values of multiple sensors\n",
    "                    ):\n",
    "    "
   ]
  },
  {
   "cell_type": "code",
   "execution_count": null,
   "id": "808c1c85",
   "metadata": {},
   "outputs": [],
   "source": []
  },
  {
   "cell_type": "code",
   "execution_count": null,
   "id": "52d68a76",
   "metadata": {},
   "outputs": [],
   "source": []
  },
  {
   "cell_type": "code",
   "execution_count": null,
   "id": "36dc20d6",
   "metadata": {},
   "outputs": [],
   "source": [
    "#| hide\n",
    "import nbdev; nbdev.nbdev_export()"
   ]
  }
 ],
 "metadata": {
  "kernelspec": {
   "display_name": "python3",
   "language": "python",
   "name": "python3"
  }
 },
 "nbformat": 4,
 "nbformat_minor": 5
}
